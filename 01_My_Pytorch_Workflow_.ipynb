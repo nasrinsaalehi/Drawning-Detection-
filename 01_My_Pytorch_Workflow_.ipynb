{
  "nbformat": 4,
  "nbformat_minor": 0,
  "metadata": {
    "colab": {
      "provenance": [],
      "authorship_tag": "ABX9TyNyPKpiHy0AmwotJM+Wy0VG",
      "include_colab_link": true
    },
    "kernelspec": {
      "name": "python3",
      "display_name": "Python 3"
    },
    "language_info": {
      "name": "python"
    }
  },
  "cells": [
    {
      "cell_type": "markdown",
      "metadata": {
        "id": "view-in-github",
        "colab_type": "text"
      },
      "source": [
        "<a href=\"https://colab.research.google.com/github/nasrinsaalehi/Drawning-Detection-/blob/main/01_My_Pytorch_Workflow_.ipynb\" target=\"_parent\"><img src=\"https://colab.research.google.com/assets/colab-badge.svg\" alt=\"Open In Colab\"/></a>"
      ]
    },
    {
      "cell_type": "markdown",
      "source": [],
      "metadata": {
        "id": "QXcGriPt50Rb"
      }
    },
    {
      "cell_type": "code",
      "execution_count": 67,
      "metadata": {
        "id": "c8kL_c82q0cA"
      },
      "outputs": [],
      "source": [
        "import torch\n",
        "import matplotlib.pyplot as plt\n",
        "from torch import nn \n"
      ]
    },
    {
      "cell_type": "markdown",
      "source": [
        "Lets make the data using linear regression"
      ],
      "metadata": {
        "id": "H3LVR2v4vBnB"
      }
    },
    {
      "cell_type": "code",
      "source": [
        "weight= 0.7\n",
        "bias= 0.3\n",
        "\n",
        "X= torch.arange(start=0, end=1, step=0.02).unsqueeze(dim=1)\n",
        "y= weight * X+ bias"
      ],
      "metadata": {
        "id": "jCi1EdMlvKEM"
      },
      "execution_count": 68,
      "outputs": []
    },
    {
      "cell_type": "markdown",
      "source": [
        "Lets Creat a Training and test set with our data\n"
      ],
      "metadata": {
        "id": "dXgOLZ5-t8g5"
      }
    },
    {
      "cell_type": "code",
      "source": [
        "# Creat a train and test split\n",
        "train_split = int(0.8* len(X))\n",
        "X_train, y_train= X[:train_split], y[:train_split]\n",
        "X_test, y_test= X[train_split:], y[train_split:]\n",
        "\n",
        "len(X_train), len(y_train), len(X_test), len(y_test)"
      ],
      "metadata": {
        "colab": {
          "base_uri": "https://localhost:8080/"
        },
        "id": "nGbjz7f_uEuC",
        "outputId": "4e83f82d-6d17-44c7-9b5b-efc0f1a4225e"
      },
      "execution_count": 69,
      "outputs": [
        {
          "output_type": "execute_result",
          "data": {
            "text/plain": [
              "(40, 40, 10, 10)"
            ]
          },
          "metadata": {},
          "execution_count": 69
        }
      ]
    },
    {
      "cell_type": "code",
      "source": [
        "def plt_predictions(train_data= X_train,\n",
        "                    train_labels= y_train,\n",
        "                    test_data= X_test,\n",
        "                    test_labels= y_test,\n",
        "                    predictions= None):\n",
        "  \"\"\"\n",
        "  Plots training data, test data and compares predictions if available\n",
        "  \"\"\"\n",
        "  plt.figure(figsize= (10,7))\n",
        "\n",
        "  #plot training data in blue\n",
        "  plt.scatter(train_data, train_labels, c=\"b\", s= 4, label=\"Training data\")\n",
        "\n",
        "  # Plot test data in green\n",
        "  plt.scatter(test_data, test_labels, c=\"g\", s=4, label= \"Test data\")\n",
        "\n",
        "  # Are there any predictions?\n",
        "  if predictions is not None:\n",
        "    # Plot the predictions of they exist \n",
        "    plt.scatter(test_data, predictions, c=\"r\", s=4, label=\"Predictions\")\n",
        "\n",
        "  # Show the legend: shows the labels on the plot\n",
        "  plt.legend(prop= {\"size\":14});"
      ],
      "metadata": {
        "id": "EKBsB6cxrhpM"
      },
      "execution_count": 104,
      "outputs": []
    },
    {
      "cell_type": "markdown",
      "source": [
        "### 2. Build the model"
      ],
      "metadata": {
        "id": "Ew0BqZGPwo4A"
      }
    },
    {
      "cell_type": "code",
      "source": [
        "from torch import nn\n",
        "\n",
        "# Create linear regression model class\n",
        "class LinearRegressionModel(nn.Module):\n",
        "  # almost everything in pytorch inherrits from nn.module class\n",
        "  def __init__(self):\n",
        "    super().__init__()\n",
        "    self.weight= nn.Parameter(torch.randn(1,\n",
        "                                        requires_grad=True,\n",
        "                                        dtype= torch.float))\n",
        "    self.bias= nn.Parameter(torch.randn(1,\n",
        "                                        requires_grad= True,\n",
        "                                        dtype= torch.float))\n",
        "    \n",
        "  #Forward method to defining the computaion in the model\n",
        "  def forward(self, x: torch.Tensor) -> torch.Tensor:\n",
        "    # \"x\" is the input data that is expected to be a torch.Tensor\n",
        "    # the model outputs a torch.Tensor\n",
        "    return self.weight * x + self.bias"
      ],
      "metadata": {
        "id": "gWfa02oZyGiA"
      },
      "execution_count": 71,
      "outputs": []
    },
    {
      "cell_type": "code",
      "source": [
        "# Create an instant of our model (a subclass of nn.Module)\n",
        "model_0= LinearRegressionModel()\n",
        "\n",
        "# chech the parameters\n",
        "list(model_0.parameters())"
      ],
      "metadata": {
        "colab": {
          "base_uri": "https://localhost:8080/"
        },
        "id": "fcpmC3w_24Kk",
        "outputId": "fb6a8514-1596-4be9-f971-bd3c347a0259"
      },
      "execution_count": 72,
      "outputs": [
        {
          "output_type": "execute_result",
          "data": {
            "text/plain": [
              "[Parameter containing:\n",
              " tensor([0.2345], requires_grad=True), Parameter containing:\n",
              " tensor([0.2303], requires_grad=True)]"
            ]
          },
          "metadata": {},
          "execution_count": 72
        }
      ]
    },
    {
      "cell_type": "code",
      "source": [
        "# List named parameters\n",
        "model_0.state_dict()"
      ],
      "metadata": {
        "colab": {
          "base_uri": "https://localhost:8080/"
        },
        "id": "DIORjHNO9OuO",
        "outputId": "0986648d-545c-4404-f5cc-ee49d74e8e77"
      },
      "execution_count": 73,
      "outputs": [
        {
          "output_type": "execute_result",
          "data": {
            "text/plain": [
              "OrderedDict([('weight', tensor([0.2345])), ('bias', tensor([0.2303]))])"
            ]
          },
          "metadata": {},
          "execution_count": 73
        }
      ]
    },
    {
      "cell_type": "code",
      "source": [
        "X_test, y_test"
      ],
      "metadata": {
        "colab": {
          "base_uri": "https://localhost:8080/"
        },
        "id": "3Z8KA233-3cq",
        "outputId": "ea7e56e2-1c2c-4aa1-bbfe-a470e65e5f7b"
      },
      "execution_count": 74,
      "outputs": [
        {
          "output_type": "execute_result",
          "data": {
            "text/plain": [
              "(tensor([[0.8000],\n",
              "         [0.8200],\n",
              "         [0.8400],\n",
              "         [0.8600],\n",
              "         [0.8800],\n",
              "         [0.9000],\n",
              "         [0.9200],\n",
              "         [0.9400],\n",
              "         [0.9600],\n",
              "         [0.9800]]), tensor([[0.8600],\n",
              "         [0.8740],\n",
              "         [0.8880],\n",
              "         [0.9020],\n",
              "         [0.9160],\n",
              "         [0.9300],\n",
              "         [0.9440],\n",
              "         [0.9580],\n",
              "         [0.9720],\n",
              "         [0.9860]]))"
            ]
          },
          "metadata": {},
          "execution_count": 74
        }
      ]
    },
    {
      "cell_type": "markdown",
      "source": [
        "# Making prediction using `torch.inference_mode()`\n",
        "\n",
        "To check our model's predictive power, lets see how well predics `y_test` based on `X_test`.\n",
        "when we pass data through our model, its going to run it through the `forward()` method\n"
      ],
      "metadata": {
        "id": "3DyTtroo9qQd"
      }
    },
    {
      "cell_type": "code",
      "source": [
        "# Make predictions with model\n",
        "with torch.inference_mode():\n",
        "  y_preds= model_0(X_test)\n",
        "y_preds"
      ],
      "metadata": {
        "colab": {
          "base_uri": "https://localhost:8080/"
        },
        "id": "j1c5QI35-lWH",
        "outputId": "17160ef5-7091-402a-a01c-51d9fd740759"
      },
      "execution_count": 75,
      "outputs": [
        {
          "output_type": "execute_result",
          "data": {
            "text/plain": [
              "tensor([[0.4179],\n",
              "        [0.4226],\n",
              "        [0.4273],\n",
              "        [0.4320],\n",
              "        [0.4367],\n",
              "        [0.4413],\n",
              "        [0.4460],\n",
              "        [0.4507],\n",
              "        [0.4554],\n",
              "        [0.4601]])"
            ]
          },
          "metadata": {},
          "execution_count": 75
        }
      ]
    },
    {
      "cell_type": "code",
      "source": [
        "plt_predictions(predictions= y_preds)"
      ],
      "metadata": {
        "colab": {
          "base_uri": "https://localhost:8080/",
          "height": 428
        },
        "id": "Z8l-0Y8k_Qn8",
        "outputId": "bc312b5d-a574-432b-e755-f243ef41ba66"
      },
      "execution_count": 76,
      "outputs": [
        {
          "output_type": "display_data",
          "data": {
            "text/plain": [
              "<Figure size 720x504 with 1 Axes>"
            ],
            "image/png": "[encoded data removed]"
          },
          "metadata": {
            "needs_background": "light"
          }
        }
      ]
    },
    {
      "cell_type": "code",
      "source": [
        "with torch.no_grad():\n",
        "  y_preds_same_as_inference_mode= model_0(X_test)\n",
        "\n",
        "y_preds_same_as_inference_mode "
      ],
      "metadata": {
        "colab": {
          "base_uri": "https://localhost:8080/"
        },
        "id": "apCnxE-GBLZ0",
        "outputId": "5e55eab2-da31-4623-83cd-9b4dfbd554fc"
      },
      "execution_count": 77,
      "outputs": [
        {
          "output_type": "execute_result",
          "data": {
            "text/plain": [
              "tensor([[0.4179],\n",
              "        [0.4226],\n",
              "        [0.4273],\n",
              "        [0.4320],\n",
              "        [0.4367],\n",
              "        [0.4413],\n",
              "        [0.4460],\n",
              "        [0.4507],\n",
              "        [0.4554],\n",
              "        [0.4601]])"
            ]
          },
          "metadata": {},
          "execution_count": 77
        }
      ]
    },
    {
      "cell_type": "code",
      "source": [
        "plt_predictions(predictions= y_preds_same_as_inference_mode)"
      ],
      "metadata": {
        "colab": {
          "base_uri": "https://localhost:8080/",
          "height": 428
        },
        "id": "7PYQcHMtCMmm",
        "outputId": "e2a1e549-184f-4019-8637-2ceac6483061"
      },
      "execution_count": 78,
      "outputs": [
        {
          "output_type": "display_data",
          "data": {
            "text/plain": [
              "<Figure size 720x504 with 1 Axes>"
            ],
            "image/png": "[encoded data removed]"
          },
          "metadata": {
            "needs_background": "light"
          }
        }
      ]
    },
    {
      "cell_type": "markdown",
      "source": [
        "### 3. Train the Model\n",
        "\n",
        "The whole idea of training is for a model to move from some unnown parameters *these may be randoms) to some known parameters.\n",
        "\n",
        "Or in other words froma poor representation of data to a better representation of the data.\n",
        "\n",
        "One way to messure how poor  yoru model predictions are, is to use a loss function.\n",
        "* Note : Los function may also be called cost fuciton or  criterrion in different areas. for our case, we are going to refer to refer it as loss function.\n",
        "\n",
        "Things we need to train the model:\n",
        "\n",
        "* **Loss Function:** A function to measure how wron your model's prediction are to the ideal outputs, lower is better.\n",
        "* **Optimizer:** Takes into account the loss of the model and adjusts the model's parameters (e.g. weight and bias) to improve the function.\n",
        "\n",
        "  inside the optimizer we need to set some parametrs:\n",
        "  1. model parameter that we need to optimize (model_0, parameters())\n",
        "  2. learning rate of the model\n",
        "\n",
        "\n",
        "And specifically for PyTorch we need:\n",
        "* a training loop\n",
        "* a testing loop"
      ],
      "metadata": {
        "id": "n4TBvRhPCYVb"
      }
    },
    {
      "cell_type": "code",
      "source": [
        "list(model_0.parameters())"
      ],
      "metadata": {
        "colab": {
          "base_uri": "https://localhost:8080/"
        },
        "id": "iTgtRh5eYdUA",
        "outputId": "78de6335-ec84-4de5-e33f-66a806224360"
      },
      "execution_count": 79,
      "outputs": [
        {
          "output_type": "execute_result",
          "data": {
            "text/plain": [
              "[Parameter containing:\n",
              " tensor([0.2345], requires_grad=True), Parameter containing:\n",
              " tensor([0.2303], requires_grad=True)]"
            ]
          },
          "metadata": {},
          "execution_count": 79
        }
      ]
    },
    {
      "cell_type": "code",
      "source": [
        "model_0.state_dict()"
      ],
      "metadata": {
        "colab": {
          "base_uri": "https://localhost:8080/"
        },
        "id": "s2eUyaIic1c0",
        "outputId": "731931a4-1519-4b36-d095-b95f31ac257f"
      },
      "execution_count": 80,
      "outputs": [
        {
          "output_type": "execute_result",
          "data": {
            "text/plain": [
              "OrderedDict([('weight', tensor([0.2345])), ('bias', tensor([0.2303]))])"
            ]
          },
          "metadata": {},
          "execution_count": 80
        }
      ]
    },
    {
      "cell_type": "code",
      "source": [
        "# Set up a Loss function\n",
        "loss_fn= nn.L1Loss()\n",
        "\n",
        "# Set up an Optimizer (stochastic gradient descent)\n",
        "optimizer= torch.optim.SGD(params= model_0.parameters(),\n",
        "                           lr= 0.001) # learning rate= possibly the most important hyper parameter of the model\n"
      ],
      "metadata": {
        "id": "k7Shw0lTdWNn"
      },
      "execution_count": 81,
      "outputs": []
    },
    {
      "cell_type": "markdown",
      "source": [
        "### Building a training Loop (and a testing loop) in PyTorch\n",
        "\n",
        "A couple of things we need for a training loop:\n",
        "0. Loop through the data\n",
        "1. Forward pass (this involves data moving through our model's `forward()` funstions) to make predictions on data - also called forward propagation\n",
        "2. Calculate the loss (compare forward pass predictions to ground trth labels)\n",
        "3. Optimizer zero grad\n",
        "4. Loss backward- move backwards through the network to calculate the gradient of each of the parameters of our model with respect to the loss (**backpropagation**)\n",
        "5. Optimizer step - use the optimizer to adjust our model's parameters to try and improve the loss (**gradient descent**)\n"
      ],
      "metadata": {
        "id": "BEx1xzLlihRk"
      }
    },
    {
      "cell_type": "code",
      "source": [
        "torch.manual_seed(42)\n",
        "# An epoch is one loop through the data (this is a hyper parameter bc. we built it ourselves)\n",
        "epochs= 2000\n",
        "\n",
        "# Track different values for different models with different parameters\n",
        "epoch_count= []\n",
        "loss_values= []\n",
        "test_loss_values= []\n",
        "\n",
        "### training\n",
        "# 0. Loop through the data\n",
        "for epoch in range(epochs):\n",
        "  \n",
        "  # Set the model to trainig mode\n",
        "  model_0. train() # train mode in pytorch sets all parameters that require gradients to require gradents\n",
        "  \n",
        "  # 1. Forward pass\n",
        "  y_pred= model_0(X_train) # when we call the model actually it calls the forward method of the model\n",
        "  \n",
        "  # 2. Calculate the loss\n",
        "  loss= loss_fn(y_pred, y_train)\n",
        "  \n",
        "  # 3. Optimizer zero grad\n",
        "  optimizer.zero_grad()\n",
        "\n",
        "  # 4. perform backpropagation on the loss with respect to model parameters\n",
        "  loss.backward()\n",
        "\n",
        "  # 5. Step the optimizer (perfrom gradient descent)\n",
        "  optimizer.step() # by default how the optimizer changes will accumilate through the loop so... we have to zero them above in step 3 for the next iteration of the loop\n",
        "  \n",
        "  ### Testing the model\n",
        "  model_0.eval() # turns off different settings in the model not needed for evaluation/testin (dropout /batch norm)\n",
        "  with torch.inference_mode(): # turns off gradient tracking and a couple more things behind th scenes\n",
        "  #with torch.no_grad() # you may also see torch.no_grad() in older pytorxh codes\n",
        "    # 1. Do the forward pass\n",
        "    test_pred= model_0(X_test)\n",
        "\n",
        "    #2. calculate the loss\n",
        "    test_loss = loss_fn(test_pred, y_test)\n",
        "  if epoch % 100 ==0:\n",
        "    epoch_count.append(epoch)\n",
        "    loss_values.append(loss)\n",
        "    test_loss_values.append(test_loss)\n",
        "    print(f\"Epoch: {epoch} | Loss: {loss} | Test loss: {test_loss}\")\n",
        "    print(model_0.state_dict())\n",
        "\n"
      ],
      "metadata": {
        "colab": {
          "base_uri": "https://localhost:8080/"
        },
        "id": "jukJaUNXlRj2",
        "outputId": "c937cf8a-a1c2-45b7-ba57-cf2e81a36d7b"
      },
      "execution_count": 82,
      "outputs": [
        {
          "output_type": "stream",
          "name": "stdout",
          "text": [
            "Epoch: 0 | Loss: 0.25122663378715515 | Test loss: 0.4826483726501465\n",
            "OrderedDict([('weight', tensor([0.2349])), ('bias', tensor([0.2313]))])\n",
            "Epoch: 100 | Loss: 0.14206227660179138 | Test loss: 0.35133546590805054\n",
            "OrderedDict([('weight', tensor([0.2738])), ('bias', tensor([0.3280]))])\n",
            "Epoch: 200 | Loss: 0.09158845990896225 | Test loss: 0.25953254103660583\n",
            "OrderedDict([('weight', tensor([0.3097])), ('bias', tensor([0.3878]))])\n",
            "Epoch: 300 | Loss: 0.07436230033636093 | Test loss: 0.20518529415130615\n",
            "OrderedDict([('weight', tensor([0.3390])), ('bias', tensor([0.4161]))])\n",
            "Epoch: 400 | Loss: 0.06764186918735504 | Test loss: 0.17438319325447083\n",
            "OrderedDict([('weight', tensor([0.3626])), ('bias', tensor([0.4259]))])\n",
            "Epoch: 500 | Loss: 0.06344695389270782 | Test loss: 0.15537860989570618\n",
            "OrderedDict([('weight', tensor([0.3830])), ('bias', tensor([0.4268]))])\n",
            "Epoch: 600 | Loss: 0.05994901806116104 | Test loss: 0.14429108798503876\n",
            "OrderedDict([('weight', tensor([0.4010])), ('bias', tensor([0.4218]))])\n",
            "Epoch: 700 | Loss: 0.05645886808633804 | Test loss: 0.13327138125896454\n",
            "OrderedDict([('weight', tensor([0.4190])), ('bias', tensor([0.4168]))])\n",
            "Epoch: 800 | Loss: 0.05299823358654976 | Test loss: 0.12383127212524414\n",
            "OrderedDict([('weight', tensor([0.4365])), ('bias', tensor([0.4107]))])\n",
            "Epoch: 900 | Loss: 0.04956411197781563 | Test loss: 0.11583338677883148\n",
            "OrderedDict([('weight', tensor([0.4536])), ('bias', tensor([0.4035]))])\n",
            "Epoch: 1000 | Loss: 0.04612955078482628 | Test loss: 0.10776684433221817\n",
            "OrderedDict([('weight', tensor([0.4707])), ('bias', tensor([0.3963]))])\n",
            "Epoch: 1100 | Loss: 0.04269557446241379 | Test loss: 0.09976896643638611\n",
            "OrderedDict([('weight', tensor([0.4878])), ('bias', tensor([0.3891]))])\n",
            "Epoch: 1200 | Loss: 0.039260800927877426 | Test loss: 0.09170208871364594\n",
            "OrderedDict([('weight', tensor([0.5049])), ('bias', tensor([0.3820]))])\n",
            "Epoch: 1300 | Loss: 0.03582679107785225 | Test loss: 0.08370302617549896\n",
            "OrderedDict([('weight', tensor([0.5219])), ('bias', tensor([0.3748]))])\n",
            "Epoch: 1400 | Loss: 0.032391659915447235 | Test loss: 0.07563535124063492\n",
            "OrderedDict([('weight', tensor([0.5390])), ('bias', tensor([0.3676]))])\n",
            "Epoch: 1500 | Loss: 0.028957724571228027 | Test loss: 0.06763631105422974\n",
            "OrderedDict([('weight', tensor([0.5561])), ('bias', tensor([0.3604]))])\n",
            "Epoch: 1600 | Loss: 0.025522541254758835 | Test loss: 0.059637267142534256\n",
            "OrderedDict([('weight', tensor([0.5732])), ('bias', tensor([0.3532]))])\n",
            "Epoch: 1700 | Loss: 0.02208857610821724 | Test loss: 0.051569562405347824\n",
            "OrderedDict([('weight', tensor([0.5903])), ('bias', tensor([0.3461]))])\n",
            "Epoch: 1800 | Loss: 0.01865360699594021 | Test loss: 0.04357052594423294\n",
            "OrderedDict([('weight', tensor([0.6074])), ('bias', tensor([0.3389]))])\n",
            "Epoch: 1900 | Loss: 0.015219432301819324 | Test loss: 0.035502828657627106\n",
            "OrderedDict([('weight', tensor([0.6245])), ('bias', tensor([0.3317]))])\n"
          ]
        }
      ]
    },
    {
      "cell_type": "code",
      "source": [
        "with torch.inference_mode():\n",
        "  y_predictions_new= model_0(X_test)\n",
        "  plt_predictions(X_train, y_train, X_test, y_test, predictions= y_predictions_new)"
      ],
      "metadata": {
        "colab": {
          "base_uri": "https://localhost:8080/",
          "height": 428
        },
        "id": "6zWymjxF2sB6",
        "outputId": "eb75078d-1166-441f-b2b9-736455bb305d"
      },
      "execution_count": 83,
      "outputs": [
        {
          "output_type": "display_data",
          "data": {
            "text/plain": [
              "<Figure size 720x504 with 1 Axes>"
            ],
            "image/png": "[encoded data removed]"
          },
          "metadata": {
            "needs_background": "light"
          }
        }
      ]
    },
    {
      "cell_type": "code",
      "source": [
        "import numpy as np\n",
        "# plot the loss curves\n",
        "plt.plot(epoch_count, np.array(torch.tensor(loss_values).numpy()), label= \"Train loss\")\n",
        "plt.plot(epoch_count, np.array(torch.tensor(test_loss_values).numpy()), label= \"Test loss\")\n",
        "plt.title(\"Training and test loss curves\")\n",
        "plt.xlabel(\"Epochs\")\n",
        "plt.ylabel(\"Loss\")\n",
        "plt.legend()"
      ],
      "metadata": {
        "colab": {
          "base_uri": "https://localhost:8080/",
          "height": 312
        },
        "id": "_xfWd6Kv7nuf",
        "outputId": "32e90679-27e5-49f5-e8b6-87de516030f2"
      },
      "execution_count": 84,
      "outputs": [
        {
          "output_type": "execute_result",
          "data": {
            "text/plain": [
              "<matplotlib.legend.Legend at 0x7ff0ddea5f10>"
            ]
          },
          "metadata": {},
          "execution_count": 84
        },
        {
          "output_type": "display_data",
          "data": {
            "text/plain": [
              "<Figure size 432x288 with 1 Axes>"
            ],
            "image/png": "[encoded data removed]"
          },
          "metadata": {
            "needs_background": "light"
          }
        }
      ]
    },
    {
      "cell_type": "markdown",
      "source": [
        "### Saving the model in PyTorch\n",
        "There are three main methods yu should know about for saving and loading models in PyTorch.\n",
        "1. `torch.save()` - allows you save a PyTorch object in PyTorch's pickle format\n",
        "2. `torch.load()` - allows yo to load a saved pytorch object\n",
        "3. `torch.nn.Module.load_state_dict()` - allows to load a model's saved state dictionary.\n",
        " "
      ],
      "metadata": {
        "id": "mHwygjRYBS6E"
      }
    },
    {
      "cell_type": "code",
      "source": [
        "# Saving our pytorch model\n",
        "from pathlib import Path\n",
        "\n",
        "# Create model's directory\n",
        "MODEL_PATH = Path(\"models\")\n",
        "MODEL_PATH.mkdir(parents= True, exist_ok=True)\n",
        "\n",
        "# Create model's save path\n",
        "MODEL_NAME= \"01_pytorch_workflow_model_0.pth\"\n",
        "MODEL_SAVE_PATH= MODEL_PATH / MODEL_NAME\n",
        "# Save the model's state_dict\n",
        "print(f\"Saving model to: {MODEL_SAVE_PATH}\")\n",
        "torch.save(obj= model_0.state_dict(),\n",
        "           f= MODEL_SAVE_PATH)"
      ],
      "metadata": {
        "id": "vHRkQO0UbdFd",
        "colab": {
          "base_uri": "https://localhost:8080/"
        },
        "outputId": "e2812b26-d3ed-411d-aaae-ab13399699e3"
      },
      "execution_count": 85,
      "outputs": [
        {
          "output_type": "stream",
          "name": "stdout",
          "text": [
            "Saving model to: models/01_pytorch_workflow_model_0.pth\n"
          ]
        }
      ]
    },
    {
      "cell_type": "code",
      "source": [
        "!ls -l models"
      ],
      "metadata": {
        "id": "NX9MnDT7g1jY",
        "colab": {
          "base_uri": "https://localhost:8080/"
        },
        "outputId": "e9f9459f-d2c4-4045-d7fc-fe29f82f982a"
      },
      "execution_count": 86,
      "outputs": [
        {
          "output_type": "stream",
          "name": "stdout",
          "text": [
            "total 4\n",
            "-rw-r--r-- 1 root root 1063 Nov 26 08:15 01_pytorch_workflow_model_0.pth\n"
          ]
        }
      ]
    },
    {
      "cell_type": "markdown",
      "source": [
        "## Loading a PyTorch model\n",
        "\n",
        "Since we saved our model's `state_dict` rather than our entire model, we will creare a new instance if our model class and load the saved `state_dict()` into that."
      ],
      "metadata": {
        "id": "Wp-zFVplhk05"
      }
    },
    {
      "cell_type": "code",
      "source": [
        "model_0.state_dict()"
      ],
      "metadata": {
        "colab": {
          "base_uri": "https://localhost:8080/"
        },
        "id": "TWOamgYbk64N",
        "outputId": "10ae39be-4c59-4e65-a474-ad31039e6dea"
      },
      "execution_count": 87,
      "outputs": [
        {
          "output_type": "execute_result",
          "data": {
            "text/plain": [
              "OrderedDict([('weight', tensor([0.6414])), ('bias', tensor([0.3246]))])"
            ]
          },
          "metadata": {},
          "execution_count": 87
        }
      ]
    },
    {
      "cell_type": "code",
      "source": [
        "# To load in a saved state_dict we have to instantiate a new instance of our model class\n",
        "loaded_model_0= LinearRegressionModel()\n",
        "\n",
        "# Load the saved state_dict of model_0 (this will updata the new instance with updated parameters)\n",
        "loaded_model_0.load_state_dict(torch.load(MODEL_SAVE_PATH))"
      ],
      "metadata": {
        "colab": {
          "base_uri": "https://localhost:8080/"
        },
        "id": "BBfd_1kxlB9X",
        "outputId": "7744a7b7-3455-46cd-d593-dcad739f69cc"
      },
      "execution_count": 88,
      "outputs": [
        {
          "output_type": "execute_result",
          "data": {
            "text/plain": [
              "<All keys matched successfully>"
            ]
          },
          "metadata": {},
          "execution_count": 88
        }
      ]
    },
    {
      "cell_type": "code",
      "source": [
        "loaded_model_0.state_dict()"
      ],
      "metadata": {
        "colab": {
          "base_uri": "https://localhost:8080/"
        },
        "id": "bUZVIMyhld1u",
        "outputId": "a3f80e48-3935-46a8-cd39-d149bf7a6298"
      },
      "execution_count": 89,
      "outputs": [
        {
          "output_type": "execute_result",
          "data": {
            "text/plain": [
              "OrderedDict([('weight', tensor([0.6414])), ('bias', tensor([0.3246]))])"
            ]
          },
          "metadata": {},
          "execution_count": 89
        }
      ]
    },
    {
      "cell_type": "code",
      "source": [
        "# make some preds with our loaded model\n",
        "loaded_model_0.eval()\n",
        "\n",
        "with torch.inference_mode():\n",
        "  loaded_model_preds = loaded_model_0(X_test)\n",
        "loaded_model_preds"
      ],
      "metadata": {
        "colab": {
          "base_uri": "https://localhost:8080/"
        },
        "id": "6CHNd8KLmX2C",
        "outputId": "3f9a5eeb-7f46-494e-edbf-ef4498a87aa5"
      },
      "execution_count": 90,
      "outputs": [
        {
          "output_type": "execute_result",
          "data": {
            "text/plain": [
              "tensor([[0.8377],\n",
              "        [0.8506],\n",
              "        [0.8634],\n",
              "        [0.8762],\n",
              "        [0.8890],\n",
              "        [0.9019],\n",
              "        [0.9147],\n",
              "        [0.9275],\n",
              "        [0.9404],\n",
              "        [0.9532]])"
            ]
          },
          "metadata": {},
          "execution_count": 90
        }
      ]
    },
    {
      "cell_type": "code",
      "source": [
        "# make some model predictions\n",
        "model_0.eval()\n",
        "with torch.inference_mode():\n",
        "  y_preds= model_0(X_test)\n",
        "  "
      ],
      "metadata": {
        "id": "buYKsWF8nbqs"
      },
      "execution_count": 91,
      "outputs": []
    },
    {
      "cell_type": "code",
      "source": [
        "# compare loaded model preds with original preds\n",
        "y_preds == loaded_model_preds"
      ],
      "metadata": {
        "colab": {
          "base_uri": "https://localhost:8080/"
        },
        "id": "yJ2KvQ11nGjZ",
        "outputId": "1cedb5c5-6aa6-4a45-ef0f-0510c67e095c"
      },
      "execution_count": 92,
      "outputs": [
        {
          "output_type": "execute_result",
          "data": {
            "text/plain": [
              "tensor([[True],\n",
              "        [True],\n",
              "        [True],\n",
              "        [True],\n",
              "        [True],\n",
              "        [True],\n",
              "        [True],\n",
              "        [True],\n",
              "        [True],\n",
              "        [True]])"
            ]
          },
          "metadata": {},
          "execution_count": 92
        }
      ]
    },
    {
      "cell_type": "markdown",
      "source": [
        "## 6. Putting it all together\n",
        "\n",
        "Lets Go back through the steps above and see it all in one place"
      ],
      "metadata": {
        "id": "NqTq4kWhnWWS"
      }
    },
    {
      "cell_type": "code",
      "source": [
        "# import torch and matplot lib\n",
        "\n",
        "import torch\n",
        "from torch import nn\n",
        "import matplotlib.pyplot as plt\n",
        "\n",
        "# check the torch version\n",
        "torch.__version__"
      ],
      "metadata": {
        "colab": {
          "base_uri": "https://localhost:8080/",
          "height": 35
        },
        "id": "OuOwODD0oZp8",
        "outputId": "0308cf03-a777-4ad8-b381-c53d27daa849"
      },
      "execution_count": 93,
      "outputs": [
        {
          "output_type": "execute_result",
          "data": {
            "text/plain": [
              "'1.12.1+cu113'"
            ],
            "application/vnd.google.colaboratory.intrinsic+json": {
              "type": "string"
            }
          },
          "metadata": {},
          "execution_count": 93
        }
      ]
    },
    {
      "cell_type": "markdown",
      "source": [
        "## Create device agnostic code.\n",
        "This means if we have got access to a GPU, our code will use to it (for potentially computing faster).\n",
        "if no GPU is available, the code will default to using a CPU.\n"
      ],
      "metadata": {
        "id": "3FWMPrK8qBl1"
      }
    },
    {
      "cell_type": "code",
      "source": [
        "# Setup device agnostice code\n",
        "device = \"cuda\" if torch.cuda.is_available() else \"cpu\"\n",
        "print(f\"Using device: {device}\")"
      ],
      "metadata": {
        "colab": {
          "base_uri": "https://localhost:8080/"
        },
        "id": "w7OyzQEDqkN8",
        "outputId": "cb15f94b-836e-4cb4-9260-3ba15f135e7b"
      },
      "execution_count": 94,
      "outputs": [
        {
          "output_type": "stream",
          "name": "stdout",
          "text": [
            "Using device: cpu\n"
          ]
        }
      ]
    },
    {
      "cell_type": "markdown",
      "source": [
        "## 6.1 Data"
      ],
      "metadata": {
        "id": "PG0kv1sAoQWM"
      }
    },
    {
      "cell_type": "code",
      "source": [
        "# Create some data \n",
        "\n",
        "# Create weight and bias\n",
        "weight = 0.7\n",
        "bias = 0.3\n",
        "\n",
        "# Create range values\n",
        "start = 0\n",
        "end = 1\n",
        "step = 0.02\n",
        "\n",
        "# Create X and y (features and labels)\n",
        "X = torch.arange(start, end, step).unsqueeze(dim=1) # without unsqueeze, errors will happen later on (shapes within linear layers)\n",
        "y = weight * X + bias \n",
        "\n",
        "\n",
        "# Split data\n",
        "train_split = int(0.8 * len(X))\n",
        "X_train, y_train = X[:train_split], y[:train_split]\n",
        "X_test, y_test = X[train_split:], y[train_split:]\n",
        "\n",
        "len(X_train), len(y_train), len(X_test), len(y_test)"
      ],
      "metadata": {
        "colab": {
          "base_uri": "https://localhost:8080/"
        },
        "id": "GaCKtZiUrMGd",
        "outputId": "c2125189-9fc9-4dd7-bb05-89154346a8b3"
      },
      "execution_count": 95,
      "outputs": [
        {
          "output_type": "execute_result",
          "data": {
            "text/plain": [
              "(40, 40, 10, 10)"
            ]
          },
          "metadata": {},
          "execution_count": 95
        }
      ]
    },
    {
      "cell_type": "code",
      "source": [
        "# Subclass nn.Module to make our model\n",
        "class LinearRegressionModelV2(nn.Module):\n",
        "    def __init__(self):\n",
        "        super().__init__()\n",
        "        # Use nn.Linear() for creating the model parameters\n",
        "        self.linear_layer = nn.Linear(in_features=1, \n",
        "                                      out_features=1)\n",
        "    \n",
        "    # Define the forward computation (input data x flows through nn.Linear())\n",
        "    def forward(self, x: torch.Tensor) -> torch.Tensor:\n",
        "        return self.linear_layer(x)\n",
        "\n",
        "# Set the manual seed when creating the model (this isn't always need but is used for demonstrative purposes, try commenting it out and seeing what happens)\n",
        "torch.manual_seed(42)\n",
        "model_1 = LinearRegressionModelV2()\n",
        "model_1, model_1.state_dict()"
      ],
      "metadata": {
        "colab": {
          "base_uri": "https://localhost:8080/"
        },
        "id": "T8-kBBUqAsQq",
        "outputId": "45b46e5e-aeb8-4503-800e-90b0d1e07789"
      },
      "execution_count": 97,
      "outputs": [
        {
          "output_type": "execute_result",
          "data": {
            "text/plain": [
              "(LinearRegressionModelV2(\n",
              "   (linear_layer): Linear(in_features=1, out_features=1, bias=True)\n",
              " ),\n",
              " OrderedDict([('linear_layer.weight', tensor([[0.7645]])),\n",
              "              ('linear_layer.bias', tensor([0.8300]))]))"
            ]
          },
          "metadata": {},
          "execution_count": 97
        }
      ]
    },
    {
      "cell_type": "markdown",
      "source": [
        "## Device Agnostic Code:"
      ],
      "metadata": {
        "id": "gO2LdkO8-6_U"
      }
    },
    {
      "cell_type": "code",
      "source": [
        "# Check model device\n",
        "next(model_1.parameters()).device\n",
        "\n",
        "# Set model to GPU if it's availalble, otherwise it'll default to CPU\n",
        "model_1.to(device) # the device variable was set above to be \"cuda\" if available or \"cpu\" if not\n",
        "next(model_1.parameters()).device"
      ],
      "metadata": {
        "colab": {
          "base_uri": "https://localhost:8080/"
        },
        "id": "sj7xfDbn-wG9",
        "outputId": "bb88cdab-1e8b-4025-bb94-5e58b17f95a6"
      },
      "execution_count": 98,
      "outputs": [
        {
          "output_type": "execute_result",
          "data": {
            "text/plain": [
              "device(type='cpu')"
            ]
          },
          "metadata": {},
          "execution_count": 98
        }
      ]
    },
    {
      "cell_type": "markdown",
      "source": [
        "## Training"
      ],
      "metadata": {
        "id": "OXitStvr_CGq"
      }
    },
    {
      "cell_type": "code",
      "source": [
        "# Create loss function\n",
        "loss_fn = nn.L1Loss()\n",
        "\n",
        "# Create optimizer\n",
        "optimizer = torch.optim.SGD(params=model_1.parameters(), # optimize newly created model's parameters\n",
        "                            lr=0.01)\n"
      ],
      "metadata": {
        "id": "29ZSjJUS-40v"
      },
      "execution_count": 99,
      "outputs": []
    },
    {
      "cell_type": "code",
      "source": [
        "# Subclass nn.Module to make our model\n",
        "class LinearRegressionModelV2(nn.Module):\n",
        "    def __init__(self):\n",
        "        super().__init__()\n",
        "        # Use nn.Linear() for creating the model parameters\n",
        "        self.linear_layer = nn.Linear(in_features=1, \n",
        "                                      out_features=1)\n",
        "    \n",
        "    # Define the forward computation (input data x flows through nn.Linear())\n",
        "    def forward(self, x: torch.Tensor) -> torch.Tensor:\n",
        "        return self.linear_layer(x)\n",
        "\n",
        "# Set the manual seed when creating the model (this isn't always need but is used for demonstrative purposes, try commenting it out and seeing what happens)\n",
        "torch.manual_seed(42)\n",
        "model_1 = LinearRegressionModelV2()\n",
        "model_1, model_1.state_dict()\n"
      ],
      "metadata": {
        "colab": {
          "base_uri": "https://localhost:8080/"
        },
        "id": "FuIfKzMn-RM8",
        "outputId": "8a429ba8-c513-4a37-e8de-97dbf7ad2969"
      },
      "execution_count": 100,
      "outputs": [
        {
          "output_type": "execute_result",
          "data": {
            "text/plain": [
              "(LinearRegressionModelV2(\n",
              "   (linear_layer): Linear(in_features=1, out_features=1, bias=True)\n",
              " ),\n",
              " OrderedDict([('linear_layer.weight', tensor([[0.7645]])),\n",
              "              ('linear_layer.bias', tensor([0.8300]))]))"
            ]
          },
          "metadata": {},
          "execution_count": 100
        }
      ]
    },
    {
      "cell_type": "code",
      "source": [
        "torch.manual_seed(42)\n",
        "\n",
        "# Set the number of epochs \n",
        "epochs = 1000 \n",
        "\n",
        "# Put data on the available device\n",
        "# Without this, error will happen (not all model/data on device)\n",
        "X_train = X_train.to(device)\n",
        "X_test = X_test.to(device)\n",
        "y_train = y_train.to(device)\n",
        "y_test = y_test.to(device)\n",
        "\n",
        "for epoch in range(epochs):\n",
        "    ### Training\n",
        "    model_1.train() # train mode is on by default after construction\n",
        "\n",
        "    # 1. Forward pass\n",
        "    y_pred = model_1(X_train)\n",
        "\n",
        "    # 2. Calculate loss\n",
        "    loss = loss_fn(y_pred, y_train)\n",
        "\n",
        "    # 3. Zero grad optimizer\n",
        "    optimizer.zero_grad()\n",
        "\n",
        "    # 4. Loss backward\n",
        "    loss.backward()\n",
        "\n",
        "    # 5. Step the optimizer\n",
        "    optimizer.step()\n",
        "\n",
        "    ### Testing\n",
        "    model_1.eval() # put the model in evaluation mode for testing (inference)\n",
        "    # 1. Forward pass\n",
        "    with torch.inference_mode():\n",
        "        test_pred = model_1(X_test)\n",
        "    \n",
        "        # 2. Calculate the loss\n",
        "        test_loss = loss_fn(test_pred, y_test)\n",
        "\n",
        "    if epoch % 100 == 0:\n",
        "        print(f\"Epoch: {epoch} | Train loss: {loss} | Test loss: {test_loss}\")\n"
      ],
      "metadata": {
        "colab": {
          "base_uri": "https://localhost:8080/"
        },
        "id": "g5fcVV0o_ORV",
        "outputId": "a464be5f-a520-40bb-cc6e-e67ec8f259fc"
      },
      "execution_count": 101,
      "outputs": [
        {
          "output_type": "stream",
          "name": "stdout",
          "text": [
            "Epoch: 0 | Train loss: 0.5551779866218567 | Test loss: 0.5874472260475159\n",
            "Epoch: 100 | Train loss: 0.5551779866218567 | Test loss: 0.5874472260475159\n",
            "Epoch: 200 | Train loss: 0.5551779866218567 | Test loss: 0.5874472260475159\n",
            "Epoch: 300 | Train loss: 0.5551779866218567 | Test loss: 0.5874472260475159\n",
            "Epoch: 400 | Train loss: 0.5551779866218567 | Test loss: 0.5874472260475159\n",
            "Epoch: 500 | Train loss: 0.5551779866218567 | Test loss: 0.5874472260475159\n",
            "Epoch: 600 | Train loss: 0.5551779866218567 | Test loss: 0.5874472260475159\n",
            "Epoch: 700 | Train loss: 0.5551779866218567 | Test loss: 0.5874472260475159\n",
            "Epoch: 800 | Train loss: 0.5551779866218567 | Test loss: 0.5874472260475159\n",
            "Epoch: 900 | Train loss: 0.5551779866218567 | Test loss: 0.5874472260475159\n"
          ]
        }
      ]
    },
    {
      "cell_type": "code",
      "source": [
        "# Turn model into evaluation mode\n",
        "model_1.eval()\n",
        "\n",
        "# Make predictions on the test data\n",
        "with torch.inference_mode():\n",
        "    y_preds = model_1(X_test)\n",
        "y_preds"
      ],
      "metadata": {
        "colab": {
          "base_uri": "https://localhost:8080/"
        },
        "id": "tJc9ASM-ATvi",
        "outputId": "c8bf3bf4-2dae-4db7-bff5-43f754724fe6"
      },
      "execution_count": 102,
      "outputs": [
        {
          "output_type": "execute_result",
          "data": {
            "text/plain": [
              "tensor([[1.4416],\n",
              "        [1.4569],\n",
              "        [1.4722],\n",
              "        [1.4875],\n",
              "        [1.5028],\n",
              "        [1.5181],\n",
              "        [1.5334],\n",
              "        [1.5487],\n",
              "        [1.5640],\n",
              "        [1.5793]])"
            ]
          },
          "metadata": {},
          "execution_count": 102
        }
      ]
    },
    {
      "cell_type": "code",
      "source": [
        "# plot_predictions(predictions=y_preds) # -> won't work... data not on CPU\n",
        "\n",
        "# Put data on the CPU and plot it\n",
        "plt_predictions(predictions=y_preds.cpu())"
      ],
      "metadata": {
        "colab": {
          "base_uri": "https://localhost:8080/",
          "height": 428
        },
        "id": "tuKDjupcA0zG",
        "outputId": "ca48be9e-71d6-4ba9-f5fc-4a4c94f5f3ab"
      },
      "execution_count": 105,
      "outputs": [
        {
          "output_type": "display_data",
          "data": {
            "text/plain": [
              "<Figure size 720x504 with 1 Axes>"
            ],
            "image/png": "[encoded data removed]"
          },
          "metadata": {
            "needs_background": "light"
          }
        }
      ]
    },
    {
      "cell_type": "code",
      "source": [
        "from pathlib import Path\n",
        "\n",
        "# 1. Create models directory \n",
        "MODEL_PATH = Path(\"models\")\n",
        "MODEL_PATH.mkdir(parents=True, exist_ok=True)\n",
        "\n",
        "# 2. Create model save path \n",
        "MODEL_NAME = \"01_pytorch_workflow_model_1.pth\"\n",
        "MODEL_SAVE_PATH = MODEL_PATH / MODEL_NAME\n",
        "\n",
        "# 3. Save the model state dict \n",
        "print(f\"Saving model to: {MODEL_SAVE_PATH}\")\n",
        "torch.save(obj=model_1.state_dict(), # only saving the state_dict() only saves the models learned parameters\n",
        "           f=MODEL_SAVE_PATH)"
      ],
      "metadata": {
        "colab": {
          "base_uri": "https://localhost:8080/"
        },
        "id": "pMAbF7_QA56a",
        "outputId": "310e6504-dea6-4d0c-b5c0-66ded2a3844c"
      },
      "execution_count": 106,
      "outputs": [
        {
          "output_type": "stream",
          "name": "stdout",
          "text": [
            "Saving model to: models/01_pytorch_workflow_model_1.pth\n"
          ]
        }
      ]
    },
    {
      "cell_type": "code",
      "source": [],
      "metadata": {
        "id": "vNHRV7YuBOPF"
      },
      "execution_count": null,
      "outputs": []
    }
  ]
}
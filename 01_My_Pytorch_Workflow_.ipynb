{
  "nbformat": 4,
  "nbformat_minor": 0,
  "metadata": {
    "colab": {
      "provenance": [],
      "authorship_tag": "ABX9TyOO5RgUy/11b86XwzW9i5K9",
      "include_colab_link": true
    },
    "kernelspec": {
      "name": "python3",
      "display_name": "Python 3"
    },
    "language_info": {
      "name": "python"
    }
  },
  "cells": [
    {
      "cell_type": "markdown",
      "metadata": {
        "id": "view-in-github",
        "colab_type": "text"
      },
      "source": [
        "<a href=\"https://colab.research.google.com/github/nasrinsaalehi/Drawning-Detection-/blob/main/01_My_Pytorch_Workflow_.ipynb\" target=\"_parent\"><img src=\"https://colab.research.google.com/assets/colab-badge.svg\" alt=\"Open In Colab\"/></a>"
      ]
    },
    {
      "cell_type": "markdown",
      "source": [],
      "metadata": {
        "id": "QXcGriPt50Rb"
      }
    },
    {
      "cell_type": "code",
      "execution_count": 167,
      "metadata": {
        "id": "c8kL_c82q0cA"
      },
      "outputs": [],
      "source": [
        "import torch\n",
        "import matplotlib.pyplot as plt\n",
        "from torch import nn \n"
      ]
    },
    {
      "cell_type": "markdown",
      "source": [
        "Lets make the data using linear regression"
      ],
      "metadata": {
        "id": "H3LVR2v4vBnB"
      }
    },
    {
      "cell_type": "code",
      "source": [
        "weight= 0.7\n",
        "bias= 0.3\n",
        "\n",
        "X= torch.arange(start=0, end=1, step=0.02).unsqueeze(dim=1)\n",
        "y= weight * X+ bias"
      ],
      "metadata": {
        "id": "jCi1EdMlvKEM"
      },
      "execution_count": 168,
      "outputs": []
    },
    {
      "cell_type": "markdown",
      "source": [
        "Lets Creat a Training and test set with our data\n"
      ],
      "metadata": {
        "id": "dXgOLZ5-t8g5"
      }
    },
    {
      "cell_type": "code",
      "source": [
        "# Creat a train and test split\n",
        "train_split = int(0.8* len(X))\n",
        "X_train, y_train= X[:train_split], y[:train_split]\n",
        "X_test, y_test= X[train_split:], y[train_split:]\n",
        "\n",
        "len(X_train), len(y_train), len(X_test), len(y_test)"
      ],
      "metadata": {
        "colab": {
          "base_uri": "https://localhost:8080/"
        },
        "id": "nGbjz7f_uEuC",
        "outputId": "044c2dd3-677a-4905-89fc-422920461de9"
      },
      "execution_count": 169,
      "outputs": [
        {
          "output_type": "execute_result",
          "data": {
            "text/plain": [
              "(40, 40, 10, 10)"
            ]
          },
          "metadata": {},
          "execution_count": 169
        }
      ]
    },
    {
      "cell_type": "code",
      "source": [
        "def plt_predictions(train_data= X_train,\n",
        "                    train_labels= y_train,\n",
        "                    test_data= X_test,\n",
        "                    test_labels= y_test,\n",
        "                    predictions= None):\n",
        "  \"\"\"\n",
        "  Plots training data, test data and compares predictions if available\n",
        "  \"\"\"\n",
        "  plt.figure(figsize= (10,7))\n",
        "\n",
        "  #plot training data in blue\n",
        "  plt.scatter(train_data, train_labels, c=\"b\", s= 4, label=\"Training data\")\n",
        "\n",
        "  # Plot test data in green\n",
        "  plt.scatter(test_data, test_labels, c=\"g\", s=4, label= \"Test data\")\n",
        "\n",
        "  # Are there any predictions?\n",
        "  if predictions is not None:\n",
        "    # Plot the predictions of they exist \n",
        "    plt.scatter(test_data, predictions, c=\"r\", s=4, label=\"Predictions\")\n",
        "\n",
        "  # Show the legend: shows the labels on the plot\n",
        "  plt.legend(prop= {\"size\":14});"
      ],
      "metadata": {
        "id": "EKBsB6cxrhpM"
      },
      "execution_count": 170,
      "outputs": []
    },
    {
      "cell_type": "markdown",
      "source": [
        "### 2. Build the model"
      ],
      "metadata": {
        "id": "Ew0BqZGPwo4A"
      }
    },
    {
      "cell_type": "code",
      "source": [
        "from torch import nn\n",
        "\n",
        "# Create linear regression model class\n",
        "class LinearRegressionModel(nn.Module):\n",
        "  # almost everything in pytorch inherrits from nn.module class\n",
        "  def __init__(self):\n",
        "    super().__init__()\n",
        "    self.weight= nn.Parameter(torch.randn(1,\n",
        "                                        requires_grad=True,\n",
        "                                        dtype= torch.float))\n",
        "    self.bias= nn.Parameter(torch.randn(1,\n",
        "                                        requires_grad= True,\n",
        "                                        dtype= torch.float))\n",
        "    \n",
        "  #Forward method to defining the computaion in the model\n",
        "  def forward(self, x: torch.Tensor) -> torch.Tensor:\n",
        "    # \"x\" is the input data that is expected to be a torch.Tensor\n",
        "    # the model outputs a torch.Tensor\n",
        "    return self.weight * x + self.bias"
      ],
      "metadata": {
        "id": "gWfa02oZyGiA"
      },
      "execution_count": 171,
      "outputs": []
    },
    {
      "cell_type": "code",
      "source": [
        "# Create an instant of our model (a subclass of nn.Module)\n",
        "model_0= LinearRegressionModel()\n",
        "\n",
        "# chech the parameters\n",
        "list(model_0.parameters())"
      ],
      "metadata": {
        "colab": {
          "base_uri": "https://localhost:8080/"
        },
        "id": "fcpmC3w_24Kk",
        "outputId": "b6eff655-6039-4e63-c873-268dcbe83541"
      },
      "execution_count": 172,
      "outputs": [
        {
          "output_type": "execute_result",
          "data": {
            "text/plain": [
              "[Parameter containing:\n",
              " tensor([0.3367], requires_grad=True), Parameter containing:\n",
              " tensor([0.1288], requires_grad=True)]"
            ]
          },
          "metadata": {},
          "execution_count": 172
        }
      ]
    },
    {
      "cell_type": "code",
      "source": [
        "# List named parameters\n",
        "model_0.state_dict()"
      ],
      "metadata": {
        "colab": {
          "base_uri": "https://localhost:8080/"
        },
        "id": "DIORjHNO9OuO",
        "outputId": "caac4615-0879-487a-c1be-cf6f9f35b7e5"
      },
      "execution_count": 173,
      "outputs": [
        {
          "output_type": "execute_result",
          "data": {
            "text/plain": [
              "OrderedDict([('weight', tensor([0.3367])), ('bias', tensor([0.1288]))])"
            ]
          },
          "metadata": {},
          "execution_count": 173
        }
      ]
    },
    {
      "cell_type": "code",
      "source": [
        "X_test, y_test"
      ],
      "metadata": {
        "colab": {
          "base_uri": "https://localhost:8080/"
        },
        "id": "3Z8KA233-3cq",
        "outputId": "5a04e9e3-29df-4d10-90f1-d9d36b9fb1f6"
      },
      "execution_count": 174,
      "outputs": [
        {
          "output_type": "execute_result",
          "data": {
            "text/plain": [
              "(tensor([[0.8000],\n",
              "         [0.8200],\n",
              "         [0.8400],\n",
              "         [0.8600],\n",
              "         [0.8800],\n",
              "         [0.9000],\n",
              "         [0.9200],\n",
              "         [0.9400],\n",
              "         [0.9600],\n",
              "         [0.9800]]), tensor([[0.8600],\n",
              "         [0.8740],\n",
              "         [0.8880],\n",
              "         [0.9020],\n",
              "         [0.9160],\n",
              "         [0.9300],\n",
              "         [0.9440],\n",
              "         [0.9580],\n",
              "         [0.9720],\n",
              "         [0.9860]]))"
            ]
          },
          "metadata": {},
          "execution_count": 174
        }
      ]
    },
    {
      "cell_type": "markdown",
      "source": [
        "# Making prediction using `torch.inference_mode()`\n",
        "\n",
        "To check our model's predictive power, lets see how well predics `y_test` based on `X_test`.\n",
        "when we pass data through our model, its going to run it through the `forward()` method\n"
      ],
      "metadata": {
        "id": "3DyTtroo9qQd"
      }
    },
    {
      "cell_type": "code",
      "source": [
        "# Make predictions with model\n",
        "with torch.inference_mode():\n",
        "  y_preds= model_0(X_test)\n",
        "y_preds"
      ],
      "metadata": {
        "colab": {
          "base_uri": "https://localhost:8080/"
        },
        "id": "j1c5QI35-lWH",
        "outputId": "8b0bbbea-a079-4156-9323-af3e8ffb44a3"
      },
      "execution_count": 175,
      "outputs": [
        {
          "output_type": "execute_result",
          "data": {
            "text/plain": [
              "tensor([[0.3982],\n",
              "        [0.4049],\n",
              "        [0.4116],\n",
              "        [0.4184],\n",
              "        [0.4251],\n",
              "        [0.4318],\n",
              "        [0.4386],\n",
              "        [0.4453],\n",
              "        [0.4520],\n",
              "        [0.4588]])"
            ]
          },
          "metadata": {},
          "execution_count": 175
        }
      ]
    },
    {
      "cell_type": "code",
      "source": [
        "plt_predictions(predictions= y_preds)"
      ],
      "metadata": {
        "colab": {
          "base_uri": "https://localhost:8080/",
          "height": 428
        },
        "id": "Z8l-0Y8k_Qn8",
        "outputId": "cb54c26a-2fe0-4994-b1e5-425f0de1029f"
      },
      "execution_count": 176,
      "outputs": [
        {
          "output_type": "display_data",
          "data": {
            "text/plain": [
              "<Figure size 720x504 with 1 Axes>"
            ],
            "image/png": "[encoded data removed]"
          },
          "metadata": {
            "needs_background": "light"
          }
        }
      ]
    },
    {
      "cell_type": "code",
      "source": [
        "with torch.no_grad():\n",
        "  y_preds_same_as_inference_mode= model_0(X_test)\n",
        "\n",
        "y_preds_same_as_inference_mode "
      ],
      "metadata": {
        "colab": {
          "base_uri": "https://localhost:8080/"
        },
        "id": "apCnxE-GBLZ0",
        "outputId": "c542465d-6a77-47f4-c26d-24034c358915"
      },
      "execution_count": 177,
      "outputs": [
        {
          "output_type": "execute_result",
          "data": {
            "text/plain": [
              "tensor([[0.3982],\n",
              "        [0.4049],\n",
              "        [0.4116],\n",
              "        [0.4184],\n",
              "        [0.4251],\n",
              "        [0.4318],\n",
              "        [0.4386],\n",
              "        [0.4453],\n",
              "        [0.4520],\n",
              "        [0.4588]])"
            ]
          },
          "metadata": {},
          "execution_count": 177
        }
      ]
    },
    {
      "cell_type": "code",
      "source": [
        "plt_predictions(predictions= y_preds_same_as_inference_mode)"
      ],
      "metadata": {
        "colab": {
          "base_uri": "https://localhost:8080/",
          "height": 428
        },
        "id": "7PYQcHMtCMmm",
        "outputId": "d1d86795-d1e6-4053-e42e-137bc3452fe8"
      },
      "execution_count": 178,
      "outputs": [
        {
          "output_type": "display_data",
          "data": {
            "text/plain": [
              "<Figure size 720x504 with 1 Axes>"
            ],
            "image/png": "[encoded data removed]"
          },
          "metadata": {
            "needs_background": "light"
          }
        }
      ]
    },
    {
      "cell_type": "markdown",
      "source": [
        "### 3. Train the Model\n",
        "\n",
        "The whole idea of training is for a model to move from some unnown parameters *these may be randoms) to some known parameters.\n",
        "\n",
        "Or in other words froma poor representation of data to a better representation of the data.\n",
        "\n",
        "One way to messure how poor  yoru model predictions are, is to use a loss function.\n",
        "* Note : Los function may also be called cost fuciton or  criterrion in different areas. for our case, we are going to refer to refer it as loss function.\n",
        "\n",
        "Things we need to train the model:\n",
        "\n",
        "* **Loss Function:** A function to measure how wron your model's prediction are to the ideal outputs, lower is better.\n",
        "* **Optimizer:** Takes into account the loss of the model and adjusts the model's parameters (e.g. weight and bias) to improve the function.\n",
        "\n",
        "  inside the optimizer we need to set some parametrs:\n",
        "  1. model parameter that we need to optimize (model_0, parameters())\n",
        "  2. learning rate of the model\n",
        "\n",
        "\n",
        "And specifically for PyTorch we need:\n",
        "* a training loop\n",
        "* a testing loop"
      ],
      "metadata": {
        "id": "n4TBvRhPCYVb"
      }
    },
    {
      "cell_type": "code",
      "source": [
        "list(model_0.parameters())"
      ],
      "metadata": {
        "colab": {
          "base_uri": "https://localhost:8080/"
        },
        "id": "iTgtRh5eYdUA",
        "outputId": "60ca530a-e193-42a3-9205-5ec18f509109"
      },
      "execution_count": 179,
      "outputs": [
        {
          "output_type": "execute_result",
          "data": {
            "text/plain": [
              "[Parameter containing:\n",
              " tensor([0.3367], requires_grad=True), Parameter containing:\n",
              " tensor([0.1288], requires_grad=True)]"
            ]
          },
          "metadata": {},
          "execution_count": 179
        }
      ]
    },
    {
      "cell_type": "code",
      "source": [
        "model_0.state_dict()"
      ],
      "metadata": {
        "colab": {
          "base_uri": "https://localhost:8080/"
        },
        "id": "s2eUyaIic1c0",
        "outputId": "91494cd0-98c2-475f-cbf1-1903a5deaf81"
      },
      "execution_count": 180,
      "outputs": [
        {
          "output_type": "execute_result",
          "data": {
            "text/plain": [
              "OrderedDict([('weight', tensor([0.3367])), ('bias', tensor([0.1288]))])"
            ]
          },
          "metadata": {},
          "execution_count": 180
        }
      ]
    },
    {
      "cell_type": "code",
      "source": [
        "# Set up a Loss function\n",
        "loss_fn= nn.L1Loss()\n",
        "\n",
        "# Set up an Optimizer (stochastic gradient descent)\n",
        "optimizer= torch.optim.SGD(params= model_0.parameters(),\n",
        "                           lr= 0.001) # learning rate= possibly the most important hyper parameter of the model\n"
      ],
      "metadata": {
        "id": "k7Shw0lTdWNn"
      },
      "execution_count": 181,
      "outputs": []
    },
    {
      "cell_type": "markdown",
      "source": [
        "### Building a training Loop (and a testing loop) in PyTorch\n",
        "\n",
        "A couple of things we need for a training loop:\n",
        "0. Loop through the data\n",
        "1. Forward pass (this involves data moving through our model's `forward()` funstions) to make predictions on data - also called forward propagation\n",
        "2. Calculate the loss (compare forward pass predictions to ground trth labels)\n",
        "3. Optimizer zero grad\n",
        "4. Loss backward- move backwards through the network to calculate the gradient of each of the parameters of our model with respect to the loss (**backpropagation**)\n",
        "5. Optimizer step - use the optimizer to adjust our model's parameters to try and improve the loss (**gradient descent**)\n"
      ],
      "metadata": {
        "id": "BEx1xzLlihRk"
      }
    },
    {
      "cell_type": "code",
      "source": [
        "torch.manual_seed(42)\n",
        "# An epoch is one loop through the data (this is a hyper parameter bc. we built it ourselves)\n",
        "epochs= 2000\n",
        "\n",
        "# Track different values for different models with different parameters\n",
        "epoch_count= []\n",
        "loss_values= []\n",
        "test_loss_values= []\n",
        "\n",
        "### training\n",
        "# 0. Loop through the data\n",
        "for epoch in range(epochs):\n",
        "  \n",
        "  # Set the model to trainig mode\n",
        "  model_0. train() # train mode in pytorch sets all parameters that require gradients to require gradents\n",
        "  \n",
        "  # 1. Forward pass\n",
        "  y_pred= model_0(X_train) # when we call the model actually it calls the forward method of the model\n",
        "  \n",
        "  # 2. Calculate the loss\n",
        "  loss= loss_fn(y_pred, y_train)\n",
        "  \n",
        "  # 3. Optimizer zero grad\n",
        "  optimizer.zero_grad()\n",
        "\n",
        "  # 4. perform backpropagation on the loss with respect to model parameters\n",
        "  loss.backward()\n",
        "\n",
        "  # 5. Step the optimizer (perfrom gradient descent)\n",
        "  optimizer.step() # by default how the optimizer changes will accumilate through the loop so... we have to zero them above in step 3 for the next iteration of the loop\n",
        "  \n",
        "  ### Testing the model\n",
        "  model_0.eval() # turns off different settings in the model not needed for evaluation/testin (dropout /batch norm)\n",
        "  with torch.inference_mode(): # turns off gradient tracking and a couple more things behind th scenes\n",
        "  #with torch.no_grad() # you may also see torch.no_grad() in older pytorxh codes\n",
        "    # 1. Do the forward pass\n",
        "    test_pred= model_0(X_test)\n",
        "\n",
        "    #2. calculate the loss\n",
        "    test_loss = loss_fn(test_pred, y_test)\n",
        "  if epoch % 100 ==0:\n",
        "    epoch_count.append(epoch)\n",
        "    loss_values.append(loss)\n",
        "    test_loss_values.append(test_loss)\n",
        "    print(f\"Epoch: {epoch} | Loss: {loss} | Test loss: {test_loss}\")\n",
        "    print(model_0.state_dict())\n",
        "\n"
      ],
      "metadata": {
        "colab": {
          "base_uri": "https://localhost:8080/"
        },
        "id": "jukJaUNXlRj2",
        "outputId": "ae661239-c86c-4149-cf6c-51229465e74e"
      },
      "execution_count": 182,
      "outputs": [
        {
          "output_type": "stream",
          "name": "stdout",
          "text": [
            "Epoch: 0 | Loss: 0.31288138031959534 | Test loss: 0.4931890368461609\n",
            "OrderedDict([('weight', tensor([0.3371])), ('bias', tensor([0.1298]))])\n",
            "Epoch: 100 | Loss: 0.19767141342163086 | Test loss: 0.35847947001457214\n",
            "OrderedDict([('weight', tensor([0.3761])), ('bias', tensor([0.2298]))])\n",
            "Epoch: 200 | Loss: 0.08973254263401031 | Test loss: 0.22795839607715607\n",
            "OrderedDict([('weight', tensor([0.4150])), ('bias', tensor([0.3257]))])\n",
            "Epoch: 300 | Loss: 0.05357731133699417 | Test loss: 0.15086300671100616\n",
            "OrderedDict([('weight', tensor([0.4485])), ('bias', tensor([0.3730]))])\n",
            "Epoch: 400 | Loss: 0.04549176245927811 | Test loss: 0.11657620966434479\n",
            "OrderedDict([('weight', tensor([0.4730])), ('bias', tensor([0.3855]))])\n",
            "Epoch: 500 | Loss: 0.04160415381193161 | Test loss: 0.10088418424129486\n",
            "OrderedDict([('weight', tensor([0.4924])), ('bias', tensor([0.3839]))])\n",
            "Epoch: 600 | Loss: 0.03811401128768921 | Test loss: 0.08986451476812363\n",
            "OrderedDict([('weight', tensor([0.5104])), ('bias', tensor([0.3789]))])\n",
            "Epoch: 700 | Loss: 0.03466346859931946 | Test loss: 0.08097299933433533\n",
            "OrderedDict([('weight', tensor([0.5277])), ('bias', tensor([0.3724]))])\n",
            "Epoch: 800 | Loss: 0.03122851625084877 | Test loss: 0.07297395914793015\n",
            "OrderedDict([('weight', tensor([0.5448])), ('bias', tensor([0.3652]))])\n",
            "Epoch: 900 | Loss: 0.027794325724244118 | Test loss: 0.06490625441074371\n",
            "OrderedDict([('weight', tensor([0.5619])), ('bias', tensor([0.3580]))])\n",
            "Epoch: 1000 | Loss: 0.02435956709086895 | Test loss: 0.05690721794962883\n",
            "OrderedDict([('weight', tensor([0.5790])), ('bias', tensor([0.3508]))])\n",
            "Epoch: 1100 | Loss: 0.02092517353594303 | Test loss: 0.0488395169377327\n",
            "OrderedDict([('weight', tensor([0.5961])), ('bias', tensor([0.3437]))])\n",
            "Epoch: 1200 | Loss: 0.017490629106760025 | Test loss: 0.04084048420190811\n",
            "OrderedDict([('weight', tensor([0.6131])), ('bias', tensor([0.3365]))])\n",
            "Epoch: 1300 | Loss: 0.014056024141609669 | Test loss: 0.03277278691530228\n",
            "OrderedDict([('weight', tensor([0.6302])), ('bias', tensor([0.3293]))])\n",
            "Epoch: 1400 | Loss: 0.010621682740747929 | Test loss: 0.0247737355530262\n",
            "OrderedDict([('weight', tensor([0.6473])), ('bias', tensor([0.3221]))])\n",
            "Epoch: 1500 | Loss: 0.007186878472566605 | Test loss: 0.01670604944229126\n",
            "OrderedDict([('weight', tensor([0.6644])), ('bias', tensor([0.3150]))])\n",
            "Epoch: 1600 | Loss: 0.003752306802198291 | Test loss: 0.008672690019011497\n",
            "OrderedDict([('weight', tensor([0.6815])), ('bias', tensor([0.3078]))])\n",
            "Epoch: 1700 | Loss: 0.0003177322505507618 | Test loss: 0.0006393313524313271\n",
            "OrderedDict([('weight', tensor([0.6986])), ('bias', tensor([0.3006]))])\n",
            "Epoch: 1800 | Loss: 0.0004444979131221771 | Test loss: 0.0005780101055279374\n",
            "OrderedDict([('weight', tensor([0.6997])), ('bias', tensor([0.3008]))])\n",
            "Epoch: 1900 | Loss: 0.0004444979131221771 | Test loss: 0.0005780101055279374\n",
            "OrderedDict([('weight', tensor([0.6997])), ('bias', tensor([0.3008]))])\n"
          ]
        }
      ]
    },
    {
      "cell_type": "code",
      "source": [
        "with torch.inference_mode():\n",
        "  y_predictions_new= model_0(X_test)\n",
        "  plt_predictions(X_train, y_train, X_test, y_test, predictions= y_predictions_new)"
      ],
      "metadata": {
        "colab": {
          "base_uri": "https://localhost:8080/",
          "height": 428
        },
        "id": "6zWymjxF2sB6",
        "outputId": "1248af90-778d-49a6-dcc4-c409295fd8e6"
      },
      "execution_count": 183,
      "outputs": [
        {
          "output_type": "display_data",
          "data": {
            "text/plain": [
              "<Figure size 720x504 with 1 Axes>"
            ],
            "image/png": "[encoded data removed]"
          },
          "metadata": {
            "needs_background": "light"
          }
        }
      ]
    },
    {
      "cell_type": "code",
      "source": [
        "import numpy as np\n",
        "# plot the loss curves\n",
        "plt.plot(epoch_count, np.array(torch.tensor(loss_values).numpy()), label= \"Train loss\")\n",
        "plt.plot(epoch_count, np.array(torch.tensor(test_loss_values).numpy()), label= \"Test loss\")\n",
        "plt.title(\"Training and test loss curves\")\n",
        "plt.xlabel(\"Epochs\")\n",
        "plt.ylabel(\"Loss\")\n",
        "plt.legend()"
      ],
      "metadata": {
        "colab": {
          "base_uri": "https://localhost:8080/",
          "height": 312
        },
        "id": "_xfWd6Kv7nuf",
        "outputId": "affd2599-d14e-4750-8007-3886b3fd75ca"
      },
      "execution_count": 184,
      "outputs": [
        {
          "output_type": "execute_result",
          "data": {
            "text/plain": [
              "<matplotlib.legend.Legend at 0x7f250d75b9d0>"
            ]
          },
          "metadata": {},
          "execution_count": 184
        },
        {
          "output_type": "display_data",
          "data": {
            "text/plain": [
              "<Figure size 432x288 with 1 Axes>"
            ],
            "image/png": "[encoded data removed]"
          },
          "metadata": {
            "needs_background": "light"
          }
        }
      ]
    },
    {
      "cell_type": "markdown",
      "source": [
        "### Saving the model in PyTorch\n",
        "There are three main methods yu should know about for saving and loading models in PyTorch.\n",
        "1. `torch.save()` - allows you save a PyTorch object in PyTorch's pickle format\n",
        "2. `torch.load()` - allows yo to load a saved pytorch object\n",
        "3. `torch.nn.Module.load_state_dict()` - allows to load a model's saved state dictionary.\n",
        " "
      ],
      "metadata": {
        "id": "mHwygjRYBS6E"
      }
    },
    {
      "cell_type": "code",
      "source": [
        "# saving our pytorch model\n",
        "from pathlib import path\n"
      ],
      "metadata": {
        "id": "vHRkQO0UbdFd"
      },
      "execution_count": null,
      "outputs": []
    }
  ]
}
{
  "nbformat": 4,
  "nbformat_minor": 0,
  "metadata": {
    "colab": {
      "provenance": [],
      "authorship_tag": "ABX9TyOfxwQi0puiCFoNNW95EYKy",
      "include_colab_link": true
    },
    "kernelspec": {
      "name": "python3",
      "display_name": "Python 3"
    },
    "language_info": {
      "name": "python"
    },
    "accelerator": "GPU",
    "gpuClass": "standard"
  },
  "cells": [
    {
      "cell_type": "markdown",
      "metadata": {
        "id": "view-in-github",
        "colab_type": "text"
      },
      "source": [
        "<a href=\"https://colab.research.google.com/github/nasrinsaalehi/Drawning-Detection-/blob/main/02_My_PyTorch_Neural_Network_Classification.ipynb\" target=\"_parent\"><img src=\"https://colab.research.google.com/assets/colab-badge.svg\" alt=\"Open In Colab\"/></a>"
      ]
    },
    {
      "cell_type": "markdown",
      "source": [
        "# 02. Neural Network classification with PyTorch\n",
        "Classification is a problem whether something is one thing or another"
      ],
      "metadata": {
        "id": "BP-MI4q_BgXN"
      }
    },
    {
      "cell_type": "code",
      "source": [
        "## 1. Make Classification data and get it ready\n"
      ],
      "metadata": {
        "id": "2uxiS1HqKcVW"
      },
      "execution_count": 46,
      "outputs": []
    },
    {
      "cell_type": "code",
      "source": [
        "import sklearn"
      ],
      "metadata": {
        "id": "MXITygOFKijp"
      },
      "execution_count": 47,
      "outputs": []
    },
    {
      "cell_type": "code",
      "source": [
        "from sklearn.datasets import make_circles\n",
        "# make 1000 samples\n",
        "n_samples = 1000\n",
        "\n",
        "# Create circles\n",
        "X, y= make_circles(n_samples, \n",
        "                   noise= 0.03,\n",
        "                   random_state= 42)"
      ],
      "metadata": {
        "id": "VfRS11jXKlUP"
      },
      "execution_count": 48,
      "outputs": []
    },
    {
      "cell_type": "code",
      "source": [
        "len(X), len(y)"
      ],
      "metadata": {
        "colab": {
          "base_uri": "https://localhost:8080/"
        },
        "id": "kDavcyEXLAfP",
        "outputId": "f8de5271-a86b-4896-d078-5bf88f8fac4d"
      },
      "execution_count": 49,
      "outputs": [
        {
          "output_type": "execute_result",
          "data": {
            "text/plain": [
              "(1000, 1000)"
            ]
          },
          "metadata": {},
          "execution_count": 49
        }
      ]
    },
    {
      "cell_type": "code",
      "source": [
        "# Make DataFreame of circle data\n",
        "import pandas as pd\n",
        "circles = pd.DataFrame({\"X1\":X[:,0],\n",
        "                        \"X2\":X[:,1],\n",
        "                        \"label\": y})\n",
        "circles.head(10)\n"
      ],
      "metadata": {
        "colab": {
          "base_uri": "https://localhost:8080/",
          "height": 363
        },
        "id": "yFNfWt44LFac",
        "outputId": "3319e0e4-8088-4043-a8b3-7d834d1f8719"
      },
      "execution_count": 50,
      "outputs": [
        {
          "output_type": "execute_result",
          "data": {
            "text/plain": [
              "         X1        X2  label\n",
              "0  0.754246  0.231481      1\n",
              "1 -0.756159  0.153259      1\n",
              "2 -0.815392  0.173282      1\n",
              "3 -0.393731  0.692883      1\n",
              "4  0.442208 -0.896723      0\n",
              "5 -0.479646  0.676435      1\n",
              "6 -0.013648  0.803349      1\n",
              "7  0.771513  0.147760      1\n",
              "8 -0.169322 -0.793456      1\n",
              "9 -0.121486  1.021509      0"
            ],
            "text/html": [
              "\n",
              "  <div id=\"df-aa91080e-cec6-435c-8764-ff4769ed507d\">\n",
              "    <div class=\"colab-df-container\">\n",
              "      <div>\n",
              "<style scoped>\n",
              "    .dataframe tbody tr th:only-of-type {\n",
              "        vertical-align: middle;\n",
              "    }\n",
              "\n",
              "    .dataframe tbody tr th {\n",
              "        vertical-align: top;\n",
              "    }\n",
              "\n",
              "    .dataframe thead th {\n",
              "        text-align: right;\n",
              "    }\n",
              "</style>\n",
              "<table border=\"1\" class=\"dataframe\">\n",
              "  <thead>\n",
              "    <tr style=\"text-align: right;\">\n",
              "      <th></th>\n",
              "      <th>X1</th>\n",
              "      <th>X2</th>\n",
              "      <th>label</th>\n",
              "    </tr>\n",
              "  </thead>\n",
              "  <tbody>\n",
              "    <tr>\n",
              "      <th>0</th>\n",
              "      <td>0.754246</td>\n",
              "      <td>0.231481</td>\n",
              "      <td>1</td>\n",
              "    </tr>\n",
              "    <tr>\n",
              "      <th>1</th>\n",
              "      <td>-0.756159</td>\n",
              "      <td>0.153259</td>\n",
              "      <td>1</td>\n",
              "    </tr>\n",
              "    <tr>\n",
              "      <th>2</th>\n",
              "      <td>-0.815392</td>\n",
              "      <td>0.173282</td>\n",
              "      <td>1</td>\n",
              "    </tr>\n",
              "    <tr>\n",
              "      <th>3</th>\n",
              "      <td>-0.393731</td>\n",
              "      <td>0.692883</td>\n",
              "      <td>1</td>\n",
              "    </tr>\n",
              "    <tr>\n",
              "      <th>4</th>\n",
              "      <td>0.442208</td>\n",
              "      <td>-0.896723</td>\n",
              "      <td>0</td>\n",
              "    </tr>\n",
              "    <tr>\n",
              "      <th>5</th>\n",
              "      <td>-0.479646</td>\n",
              "      <td>0.676435</td>\n",
              "      <td>1</td>\n",
              "    </tr>\n",
              "    <tr>\n",
              "      <th>6</th>\n",
              "      <td>-0.013648</td>\n",
              "      <td>0.803349</td>\n",
              "      <td>1</td>\n",
              "    </tr>\n",
              "    <tr>\n",
              "      <th>7</th>\n",
              "      <td>0.771513</td>\n",
              "      <td>0.147760</td>\n",
              "      <td>1</td>\n",
              "    </tr>\n",
              "    <tr>\n",
              "      <th>8</th>\n",
              "      <td>-0.169322</td>\n",
              "      <td>-0.793456</td>\n",
              "      <td>1</td>\n",
              "    </tr>\n",
              "    <tr>\n",
              "      <th>9</th>\n",
              "      <td>-0.121486</td>\n",
              "      <td>1.021509</td>\n",
              "      <td>0</td>\n",
              "    </tr>\n",
              "  </tbody>\n",
              "</table>\n",
              "</div>\n",
              "      <button class=\"colab-df-convert\" onclick=\"convertToInteractive('df-aa91080e-cec6-435c-8764-ff4769ed507d')\"\n",
              "              title=\"Convert this dataframe to an interactive table.\"\n",
              "              style=\"display:none;\">\n",
              "        \n",
              "  <svg xmlns=\"http://www.w3.org/2000/svg\" height=\"24px\"viewBox=\"0 0 24 24\"\n",
              "       width=\"24px\">\n",
              "    <path d=\"M0 0h24v24H0V0z\" fill=\"none\"/>\n",
              "    <path d=\"M18.56 5.44l.94 2.06.94-2.06 2.06-.94-2.06-.94-.94-2.06-.94 2.06-2.06.94zm-11 1L8.5 8.5l.94-2.06 2.06-.94-2.06-.94L8.5 2.5l-.94 2.06-2.06.94zm10 10l.94 2.06.94-2.06 2.06-.94-2.06-.94-.94-2.06-.94 2.06-2.06.94z\"/><path d=\"M17.41 7.96l-1.37-1.37c-.4-.4-.92-.59-1.43-.59-.52 0-1.04.2-1.43.59L10.3 9.45l-7.72 7.72c-.78.78-.78 2.05 0 2.83L4 21.41c.39.39.9.59 1.41.59.51 0 1.02-.2 1.41-.59l7.78-7.78 2.81-2.81c.8-.78.8-2.07 0-2.86zM5.41 20L4 18.59l7.72-7.72 1.47 1.35L5.41 20z\"/>\n",
              "  </svg>\n",
              "      </button>\n",
              "      \n",
              "  <style>\n",
              "    .colab-df-container {\n",
              "      display:flex;\n",
              "      flex-wrap:wrap;\n",
              "      gap: 12px;\n",
              "    }\n",
              "\n",
              "    .colab-df-convert {\n",
              "      background-color: #E8F0FE;\n",
              "      border: none;\n",
              "      border-radius: 50%;\n",
              "      cursor: pointer;\n",
              "      display: none;\n",
              "      fill: #1967D2;\n",
              "      height: 32px;\n",
              "      padding: 0 0 0 0;\n",
              "      width: 32px;\n",
              "    }\n",
              "\n",
              "    .colab-df-convert:hover {\n",
              "      background-color: #E2EBFA;\n",
              "      box-shadow: 0px 1px 2px rgba(60, 64, 67, 0.3), 0px 1px 3px 1px rgba(60, 64, 67, 0.15);\n",
              "      fill: #174EA6;\n",
              "    }\n",
              "\n",
              "    [theme=dark] .colab-df-convert {\n",
              "      background-color: #3B4455;\n",
              "      fill: #D2E3FC;\n",
              "    }\n",
              "\n",
              "    [theme=dark] .colab-df-convert:hover {\n",
              "      background-color: #434B5C;\n",
              "      box-shadow: 0px 1px 3px 1px rgba(0, 0, 0, 0.15);\n",
              "      filter: drop-shadow(0px 1px 2px rgba(0, 0, 0, 0.3));\n",
              "      fill: #FFFFFF;\n",
              "    }\n",
              "  </style>\n",
              "\n",
              "      <script>\n",
              "        const buttonEl =\n",
              "          document.querySelector('#df-aa91080e-cec6-435c-8764-ff4769ed507d button.colab-df-convert');\n",
              "        buttonEl.style.display =\n",
              "          google.colab.kernel.accessAllowed ? 'block' : 'none';\n",
              "\n",
              "        async function convertToInteractive(key) {\n",
              "          const element = document.querySelector('#df-aa91080e-cec6-435c-8764-ff4769ed507d');\n",
              "          const dataTable =\n",
              "            await google.colab.kernel.invokeFunction('convertToInteractive',\n",
              "                                                     [key], {});\n",
              "          if (!dataTable) return;\n",
              "\n",
              "          const docLinkHtml = 'Like what you see? Visit the ' +\n",
              "            '<a target=\"_blank\" href=https://colab.research.google.com/notebooks/data_table.ipynb>data table notebook</a>'\n",
              "            + ' to learn more about interactive tables.';\n",
              "          element.innerHTML = '';\n",
              "          dataTable['output_type'] = 'display_data';\n",
              "          await google.colab.output.renderOutput(dataTable, element);\n",
              "          const docLink = document.createElement('div');\n",
              "          docLink.innerHTML = docLinkHtml;\n",
              "          element.appendChild(docLink);\n",
              "        }\n",
              "      </script>\n",
              "    </div>\n",
              "  </div>\n",
              "  "
            ]
          },
          "metadata": {},
          "execution_count": 50
        }
      ]
    },
    {
      "cell_type": "code",
      "source": [
        "# Visualize, visualize, visualize\n",
        "import matplotlib.pyplot as plt\n",
        "plt.scatter(x= X[:,0],\n",
        "            y=X[:,1],\n",
        "            c=y,\n",
        "            cmap= plt.cm.RdYlBu)"
      ],
      "metadata": {
        "colab": {
          "base_uri": "https://localhost:8080/",
          "height": 282
        },
        "id": "o25VWTuEN9yA",
        "outputId": "fb252c6a-09c0-45c0-ee23-00f3efa71550"
      },
      "execution_count": 51,
      "outputs": [
        {
          "output_type": "execute_result",
          "data": {
            "text/plain": [
              "<matplotlib.collections.PathCollection at 0x7ff8893e0910>"
            ]
          },
          "metadata": {},
          "execution_count": 51
        },
        {
          "output_type": "display_data",
          "data": {
            "text/plain": [
              "<Figure size 432x288 with 1 Axes>"
            ],
            "image/png": "[encoded data removed]"
          },
          "metadata": {
            "needs_background": "light"
          }
        }
      ]
    },
    {
      "cell_type": "markdown",
      "source": [
        "*Note:* The datasert e are working with is called Toy dataset which is a small version of real world dataserts e are going to work with in future."
      ],
      "metadata": {
        "id": "TFnWyGxQvzDb"
      }
    },
    {
      "cell_type": "markdown",
      "source": [
        "### 1.1 Check input output shapes\n"
      ],
      "metadata": {
        "id": "EdKd1dOvw9EU"
      }
    },
    {
      "cell_type": "code",
      "source": [
        "X.shape, y.shape"
      ],
      "metadata": {
        "colab": {
          "base_uri": "https://localhost:8080/"
        },
        "id": "CU8QBx1DxIEk",
        "outputId": "bf07aea4-7411-4ed2-df4b-a4ca232cf772"
      },
      "execution_count": 52,
      "outputs": [
        {
          "output_type": "execute_result",
          "data": {
            "text/plain": [
              "((1000, 2), (1000,))"
            ]
          },
          "metadata": {},
          "execution_count": 52
        }
      ]
    },
    {
      "cell_type": "code",
      "source": [
        "X"
      ],
      "metadata": {
        "colab": {
          "base_uri": "https://localhost:8080/"
        },
        "id": "yFBNJAV6xPCP",
        "outputId": "0e196f48-b573-4b08-d949-c137ff7a2dc9"
      },
      "execution_count": 53,
      "outputs": [
        {
          "output_type": "execute_result",
          "data": {
            "text/plain": [
              "array([[ 0.75424625,  0.23148074],\n",
              "       [-0.75615888,  0.15325888],\n",
              "       [-0.81539193,  0.17328203],\n",
              "       ...,\n",
              "       [-0.13690036, -0.81001183],\n",
              "       [ 0.67036156, -0.76750154],\n",
              "       [ 0.28105665,  0.96382443]])"
            ]
          },
          "metadata": {},
          "execution_count": 53
        }
      ]
    },
    {
      "cell_type": "code",
      "source": [
        "# View the first example of features and labels\n",
        "X_sample= X[0]\n",
        "y_sample= y[0]\n",
        "print (f\"Values for one samlpe of X:{X_sample} and the same for y:{y_sample}\")\n",
        "print(f\"Shapes for one sample of X:{X_sample.shape} and the same for y:{y_sample.shape}\")\n"
      ],
      "metadata": {
        "colab": {
          "base_uri": "https://localhost:8080/"
        },
        "id": "GPEhQe-mxSXW",
        "outputId": "75b4fe2d-a8c4-42e7-9be0-a30cc25460e4"
      },
      "execution_count": 54,
      "outputs": [
        {
          "output_type": "stream",
          "name": "stdout",
          "text": [
            "Values for one samlpe of X:[0.75424625 0.23148074] and the same for y:1\n",
            "Shapes for one sample of X:(2,) and the same for y:()\n"
          ]
        }
      ]
    },
    {
      "cell_type": "markdown",
      "source": [
        "### 1.2 Turn data into tensors and creat train and test splits\n",
        "\n"
      ],
      "metadata": {
        "id": "By0ZNX5Ixt9B"
      }
    },
    {
      "cell_type": "code",
      "source": [
        "import torch\n",
        "torch.__version__"
      ],
      "metadata": {
        "colab": {
          "base_uri": "https://localhost:8080/",
          "height": 35
        },
        "id": "LCxCQWg0yngM",
        "outputId": "3d9bfe4e-c0d1-48b8-8c5c-e5d93d58e290"
      },
      "execution_count": 55,
      "outputs": [
        {
          "output_type": "execute_result",
          "data": {
            "text/plain": [
              "'1.12.1+cu113'"
            ],
            "application/vnd.google.colaboratory.intrinsic+json": {
              "type": "string"
            }
          },
          "metadata": {},
          "execution_count": 55
        }
      ]
    },
    {
      "cell_type": "code",
      "source": [
        "# turn data into tensors\n",
        "X= torch.from_numpy(X).type(torch.float)\n",
        "y= torch.from_numpy(y).type(torch.float)\n",
        "X[:5], y[:5]"
      ],
      "metadata": {
        "colab": {
          "base_uri": "https://localhost:8080/"
        },
        "id": "apZIdYCDyu0U",
        "outputId": "91f4046f-8abc-49f9-dcb6-8d2f1dcbcbd7"
      },
      "execution_count": 56,
      "outputs": [
        {
          "output_type": "execute_result",
          "data": {
            "text/plain": [
              "(tensor([[ 0.7542,  0.2315],\n",
              "         [-0.7562,  0.1533],\n",
              "         [-0.8154,  0.1733],\n",
              "         [-0.3937,  0.6929],\n",
              "         [ 0.4422, -0.8967]]), tensor([1., 1., 1., 1., 0.]))"
            ]
          },
          "metadata": {},
          "execution_count": 56
        }
      ]
    },
    {
      "cell_type": "code",
      "source": [
        "# Split data into training and test sets using sklearn lib\n",
        "\n",
        "from sklearn.model_selection import train_test_split\n",
        "\n",
        "X_train, X_test, y_train, y_test= train_test_split(X,\n",
        "                                                   y,\n",
        "                                                   test_size= 0.2, #20% of the data will be est and 80% for training\n",
        "                                                   random_state= 42)\n",
        "\n"
      ],
      "metadata": {
        "id": "e3As48h5zD_X"
      },
      "execution_count": 57,
      "outputs": []
    },
    {
      "cell_type": "code",
      "source": [
        "len(X_train), len(X_test)"
      ],
      "metadata": {
        "colab": {
          "base_uri": "https://localhost:8080/"
        },
        "id": "jn0Jt_yYzZjN",
        "outputId": "cfe45157-1aef-48af-e640-05c4b68d08d9"
      },
      "execution_count": 58,
      "outputs": [
        {
          "output_type": "execute_result",
          "data": {
            "text/plain": [
              "(800, 200)"
            ]
          },
          "metadata": {},
          "execution_count": 58
        }
      ]
    },
    {
      "cell_type": "markdown",
      "source": [
        "## 2. Building a model\n",
        "\n",
        "Let's build a model to classify our blue and red dots.\n",
        "To do so, we want to:\n",
        "1. setup device agnostic code so our code will run on an accelerator (GPU) if there is one\n",
        "2. construct a model (by subclassing nn.Module)\n",
        "3. define a loss funstion and optimizer\n",
        "4. create a training and test loop"
      ],
      "metadata": {
        "id": "rOYvdpmQ6Rh9"
      }
    },
    {
      "cell_type": "code",
      "source": [
        "# Building a model\n",
        "import torch\n",
        "from torch import nn\n",
        "\n",
        "# make device agnostic code\n",
        "device= \"cuda\" if torch.cuda.is_available()  else \"cpu\"\n",
        "device"
      ],
      "metadata": {
        "colab": {
          "base_uri": "https://localhost:8080/",
          "height": 35
        },
        "id": "FvkpnLBG7mYx",
        "outputId": "abfd6c2d-2583-41fc-d0e2-efa63e7ea020"
      },
      "execution_count": 59,
      "outputs": [
        {
          "output_type": "execute_result",
          "data": {
            "text/plain": [
              "'cuda'"
            ],
            "application/vnd.google.colaboratory.intrinsic+json": {
              "type": "string"
            }
          },
          "metadata": {},
          "execution_count": 59
        }
      ]
    },
    {
      "cell_type": "markdown",
      "source": [
        "Now we have setup device agnostic code let's create a model that:\n",
        "\n",
        "1. Subclasses `nn.Module` (almost all models in pytorch subclass `nn.Modul`)\n",
        "2. create 2 `nn.Linear()` layers that are capable of handling the shapes of our data\n",
        "3. Define a `forward method that outlines the forawrd pass (or forward computation) method\n",
        "4. instantiate an instance of our model class and set it to the target `device` "
      ],
      "metadata": {
        "id": "OiC9JwfS8BxZ"
      }
    },
    {
      "cell_type": "code",
      "source": [
        "# 1 .construct a model that subclassed nn.module\n",
        "\n",
        "class CircleModelV1(nn.Module):\n",
        "  def __init__(self):\n",
        "    super().__init__()\n",
        "    # .2 create our nn.linear layers that are capable of handling the shapes of our data\n",
        "    self.layer_1= nn.Linear(in_features= 2, out_features=5)\n",
        "    self.layer_2= nn.Linear(in_features= 5, out_features= 1)\n",
        "\n",
        "    #self.two_linear_layer= nn.Seuential(in_features= 2, out_features= 5),\n",
        "    #                   nn.Linear(in_feattures= 5, out_features= 1)))\n",
        "  \n",
        "  # 3. Define a forward method that outlines te forward pass\n",
        "  def forward(self, x:torch.Tensor)->torch.Tensor:\n",
        "    return self.layer_2(self.layer_1(x))\n",
        "# 4. instantiate an nstant of our model and send it to de right device\n",
        "model_0= CircleModelV1().to(device)\n",
        "model_0"
      ],
      "metadata": {
        "colab": {
          "base_uri": "https://localhost:8080/"
        },
        "id": "cIuDpQEQ8hOO",
        "outputId": "d2180d1d-0d4f-433f-db59-8f12257177fe"
      },
      "execution_count": 60,
      "outputs": [
        {
          "output_type": "execute_result",
          "data": {
            "text/plain": [
              "CircleModelV1(\n",
              "  (layer_1): Linear(in_features=2, out_features=5, bias=True)\n",
              "  (layer_2): Linear(in_features=5, out_features=1, bias=True)\n",
              ")"
            ]
          },
          "metadata": {},
          "execution_count": 60
        }
      ]
    },
    {
      "cell_type": "code",
      "source": [
        "# let's replicate the model above using nn.Seuential()\n",
        "model_00= nn.Sequential(\n",
        "    nn.Linear(in_features= 2, out_features= 5).to(device),\n",
        "    nn.Linear(in_features= 5, out_features= 1)).to(device)\n",
        "model_00"
      ],
      "metadata": {
        "colab": {
          "base_uri": "https://localhost:8080/"
        },
        "id": "q03znxa6_Vt0",
        "outputId": "73181b1e-c1dd-4f33-ba27-1cc9200f0caa"
      },
      "execution_count": 61,
      "outputs": [
        {
          "output_type": "execute_result",
          "data": {
            "text/plain": [
              "Sequential(\n",
              "  (0): Linear(in_features=2, out_features=5, bias=True)\n",
              "  (1): Linear(in_features=5, out_features=1, bias=True)\n",
              ")"
            ]
          },
          "metadata": {},
          "execution_count": 61
        }
      ]
    },
    {
      "cell_type": "code",
      "source": [
        " # make some predictions\n",
        " with torch.inference_mode():\n",
        "   untrained_preds= model_0(X_test.to(device)).to(device)\n",
        "   print(f\"Length of predictions: {len(untrained_preds)}, shape: {untrained_preds.shape}\")\n",
        "\n",
        " "
      ],
      "metadata": {
        "colab": {
          "base_uri": "https://localhost:8080/"
        },
        "id": "YyFSyI-UCtSq",
        "outputId": "a8331f5f-ba30-401a-cc93-46cc6b5329a0"
      },
      "execution_count": 62,
      "outputs": [
        {
          "output_type": "stream",
          "name": "stdout",
          "text": [
            "Length of predictions: 200, shape: torch.Size([200, 1])\n"
          ]
        }
      ]
    },
    {
      "cell_type": "markdown",
      "source": [
        "### 2.1 Setup the loss function and optimizer\n",
        "\n",
        "which loss funstion and optimizer e should use\n",
        "\n",
        "again... this is problem specific\n",
        "\n",
        "for example for regression you might want MAE or model_selection\n",
        "for classification you might need binary cross entropy or categorical cross entropy.\n",
        "and for optimizers, two of the most common optimizers are `SGD` and `Adam`\n",
        "\n",
        "* For the loss funstion we are going to use `torch.nn.BCEwithLigitsLoss()`\n",
        "* Search the internet to see what `Logit` means if it is the first time you have heard of that.\n",
        "* for different optimizers see `torch.optim`\n"
      ],
      "metadata": {
        "id": "K_i0y0b5EkKx"
      }
    },
    {
      "cell_type": "code",
      "source": [
        "# Setup hte optimizer and loss fusction\n",
        "\n",
        "#loss_fn= nn.BCELoss() # requires inputs to have gone through the sigmoid activation function prior to input to BCELoss\n",
        "\n",
        "loss_fn = nn.BCEWithLogitsLoss() # BCEWithLogitsLoss= sigmoid activation function built-in\n",
        "optimizer= torch.optim.SGD(params= model_0.parameters(),\n",
        "                        lr= 0.1)"
      ],
      "metadata": {
        "id": "ZTM2ar47H1ZD"
      },
      "execution_count": 63,
      "outputs": []
    },
    {
      "cell_type": "code",
      "source": [
        "# Calculate accuracy\n",
        "def accuracy_fn(y_true, y_pred):\n",
        "  correct= torch.eq(y_true,y_pred).sum().item()\n",
        "  acc= (correct/len(y_pred)) * 100\n",
        "  return acc"
      ],
      "metadata": {
        "id": "nLTLYtZhJiBn"
      },
      "execution_count": 64,
      "outputs": []
    },
    {
      "cell_type": "markdown",
      "source": [
        "## 3. Train the model\n",
        "To train the model, we are goint to need to build a training loop:\n",
        "\n",
        "1. Forward pass\n",
        "2. Calculate the loss\n",
        "3. optimizer zero grad\n",
        "4. loss backward\n",
        "5. optimizer step\n"
      ],
      "metadata": {
        "id": "o8ucNQG4KPbb"
      }
    },
    {
      "cell_type": "markdown",
      "source": [
        "### 3.1 Going from raw logits ->prediction probablities ->prediction labels\n",
        "Our model outputs are going to be raw **logits**\n",
        "\n",
        "We can convert these **logits** into **prediction probablities** by passing them to some kind of activation function (e.g. sigmoid for binary classification andsoftmax for multiclass classification)\n",
        "\n",
        "Then we can convert our model prediction probablities to **predicton labels** by either rounding them or taking the `argmax()`\n",
        "\n"
      ],
      "metadata": {
        "id": "bkfNVjUjK83E"
      }
    },
    {
      "cell_type": "code",
      "source": [
        "# view the firs 5 outputs of the forward pass on the test data\n",
        "model_0.eval()\n",
        "with torch.inference_mode():\n",
        "  y_logits = model_0(X_test.to(device))[:5]\n",
        "y_logits"
      ],
      "metadata": {
        "colab": {
          "base_uri": "https://localhost:8080/"
        },
        "id": "QD3Kv8MQM135",
        "outputId": "219f413b-4061-413a-863b-d6e0c6638980"
      },
      "execution_count": 65,
      "outputs": [
        {
          "output_type": "execute_result",
          "data": {
            "text/plain": [
              "tensor([[-0.1269],\n",
              "        [-0.0967],\n",
              "        [-0.1908],\n",
              "        [-0.1089],\n",
              "        [-0.1667]], device='cuda:0')"
            ]
          },
          "metadata": {},
          "execution_count": 65
        }
      ]
    },
    {
      "cell_type": "code",
      "source": [
        "# Use the sigmoid activation function on our model logits to turn them inro prediction probs\n",
        "y_pred_probs= torch.sigmoid(y_logits)\n",
        "y_pred_probs"
      ],
      "metadata": {
        "colab": {
          "base_uri": "https://localhost:8080/"
        },
        "id": "TnW2pEiUNozQ",
        "outputId": "63434e78-e798-410e-bdd7-5d8a224d4bc5"
      },
      "execution_count": 66,
      "outputs": [
        {
          "output_type": "execute_result",
          "data": {
            "text/plain": [
              "tensor([[0.4683],\n",
              "        [0.4758],\n",
              "        [0.4524],\n",
              "        [0.4728],\n",
              "        [0.4584]], device='cuda:0')"
            ]
          },
          "metadata": {},
          "execution_count": 66
        }
      ]
    },
    {
      "cell_type": "markdown",
      "source": [
        "For our prediction probablity values, we need to perform a range-style rounding on them:\n",
        "* `y_pred_probs` >=0.5, `y=1` (class 1)\n",
        "* `y_pred_probs`<0.5, `y=0` (class 0) "
      ],
      "metadata": {
        "id": "zYdUyiTgO7x1"
      }
    },
    {
      "cell_type": "code",
      "source": [
        "torch.round(y_pred_probs)"
      ],
      "metadata": {
        "colab": {
          "base_uri": "https://localhost:8080/"
        },
        "id": "DiIibDJLOWhh",
        "outputId": "f0c10029-1226-4962-c707-d5224f393482"
      },
      "execution_count": 67,
      "outputs": [
        {
          "output_type": "execute_result",
          "data": {
            "text/plain": [
              "tensor([[0.],\n",
              "        [0.],\n",
              "        [0.],\n",
              "        [0.],\n",
              "        [0.]], device='cuda:0')"
            ]
          },
          "metadata": {},
          "execution_count": 67
        }
      ]
    },
    {
      "cell_type": "markdown",
      "source": [
        "### 3.2 Building a training and testing loop\n"
      ],
      "metadata": {
        "id": "ZkCwPAnyOi-U"
      }
    },
    {
      "cell_type": "code",
      "source": [
        "torch.manual_seed(42)\n",
        "torch.cuda.manual_seed(42)\n",
        "\n",
        "# Set the number of the epochs\n",
        "epochs= 100\n",
        "\n",
        "# Put data to target device\n",
        "X_train, y_train = X_train.to(device), y_train.to(device)\n",
        "X_test, y_test = X_test.to(device), y_test.to(device)\n",
        "\n",
        "for epoch in range(epochs):\n",
        "  # Training \n",
        "  model_0.train()\n",
        "\n",
        "  # 1. forward pass\n",
        "  y_logits= model_0(X_train).squeeze()\n",
        "  y_preds= torch.round(torch.sigmoid(y_logits)) # turn the logits-> pred probs -> pred labels\n",
        "\n",
        "  # 2. calculate loss/ accuracy\n",
        "  loss= loss_fn(y_logits,\n",
        "                y_train)\n",
        "  acc= accuracy_fn(y_true= y_train, y_pred= y_preds)\n",
        "  \n",
        "  # 3. optimizer zero grad\n",
        "  optimizer.zero_grad()\n",
        "\n",
        "  # 4. loss backward\n",
        "  loss.backward()\n",
        "\n",
        "  # 5. optimizer step\n",
        "  optimizer.step()\n",
        "\n",
        "  ### Testing\n",
        "  model_0.eval()\n",
        "  with torch.inference_mode():\n",
        "    # 1. forward pass\n",
        "    test_logits= model_0(X_test).squeeze()\n",
        "    test_preds= torch.round(torch.sigmoid(test_logits))\n",
        "\n",
        "    # 2. calculate the loss/ acc\n",
        "    test_loss= loss_fn(test_logits,\n",
        "                       y_test)\n",
        "    test_acc= accuracy_fn(y_true= y_test,\n",
        "                          y_pred= test_preds)\n",
        "    # print out whats happening\n",
        "    if epoch % 10 ==0 :\n",
        "      print (f\"Epoch: {epoch} | Loss: {loss:.5f}, Acc: {acc:.2f}% | Test loss:{test_loss:.5f} | Test acc {test_acc:.5f}%\")"
      ],
      "metadata": {
        "colab": {
          "base_uri": "https://localhost:8080/"
        },
        "id": "TrE6LTYQQ2DT",
        "outputId": "67e3645e-87bf-46c1-a5b0-95bd02d3b909"
      },
      "execution_count": 68,
      "outputs": [
        {
          "output_type": "stream",
          "name": "stdout",
          "text": [
            "Epoch: 0 | Loss: 0.69569, Acc: 50.00% | Test loss:0.69721 | Test acc 50.00000%\n",
            "Epoch: 10 | Loss: 0.69403, Acc: 50.00% | Test loss:0.69615 | Test acc 50.00000%\n",
            "Epoch: 20 | Loss: 0.69343, Acc: 46.00% | Test loss:0.69585 | Test acc 48.50000%\n",
            "Epoch: 30 | Loss: 0.69321, Acc: 49.00% | Test loss:0.69577 | Test acc 47.50000%\n",
            "Epoch: 40 | Loss: 0.69312, Acc: 49.50% | Test loss:0.69573 | Test acc 46.50000%\n",
            "Epoch: 50 | Loss: 0.69308, Acc: 50.38% | Test loss:0.69569 | Test acc 46.50000%\n",
            "Epoch: 60 | Loss: 0.69306, Acc: 50.50% | Test loss:0.69564 | Test acc 46.50000%\n",
            "Epoch: 70 | Loss: 0.69305, Acc: 50.50% | Test loss:0.69559 | Test acc 46.50000%\n",
            "Epoch: 80 | Loss: 0.69304, Acc: 50.75% | Test loss:0.69553 | Test acc 46.50000%\n",
            "Epoch: 90 | Loss: 0.69303, Acc: 50.38% | Test loss:0.69547 | Test acc 46.50000%\n"
          ]
        }
      ]
    },
    {
      "cell_type": "markdown",
      "source": [
        "## 4. make predictions and evaluate the model\n",
        "\n",
        "From the metrics it looks like our model isn't learning anything\n",
        "\n",
        "So to inspect it lets make some more predictions and visualize them\n",
        "\n",
        "In other words, visualize visualize, visualize....\n",
        "T do so, we are going to import a function called written by daniel!\n",
        "\n"
      ],
      "metadata": {
        "id": "gc324VqZfVpx"
      }
    },
    {
      "cell_type": "code",
      "source": [
        "import requests\n",
        "from pathlib import Path\n",
        "\n",
        "# download helper functions from Learn Pytorch repo (if it's not already downloaded)\n",
        "if Path(\"helper_functions.py\").is_file():\n",
        "  print(\"helper_function.py already exists, skipping download\")\n",
        "else:\n",
        "  print(\"Download helper _functions.py\")\n",
        "  request= requests.get(\"https://raw.githubusercontent.com/mrdbourke/pytorch-deep-learning/main/helper_functions.py\")\n",
        "  with open(\"helper_functions.py\", \"wb\") as f:\n",
        "    f.write(request.content)\n",
        "\n",
        "from helper_functions import plot_predictions, plot_decision_boundary"
      ],
      "metadata": {
        "colab": {
          "base_uri": "https://localhost:8080/"
        },
        "id": "oMqAxim2hPDs",
        "outputId": "e69382cf-3b60-4b2b-d0f9-4ea0917a1782"
      },
      "execution_count": 69,
      "outputs": [
        {
          "output_type": "stream",
          "name": "stdout",
          "text": [
            "Download helper _functions.py\n"
          ]
        }
      ]
    },
    {
      "cell_type": "code",
      "source": [
        "plt.figure(figsize=(12,6))\n",
        "plt.subplot(1,2,1)\n",
        "plt.title(\"Train\")\n",
        "plot_decision_boundary(model_0, X_train, y_train)\n",
        "plt.subplot(1,2,2)\n",
        "plt.title(\"Test\")\n",
        "plot_decision_boundary(model_0, X_test, y_test)"
      ],
      "metadata": {
        "colab": {
          "base_uri": "https://localhost:8080/",
          "height": 390
        },
        "id": "gtMYiLwRjxXB",
        "outputId": "d4eba893-7db4-4780-b7ed-40330a24a77a"
      },
      "execution_count": 70,
      "outputs": [
        {
          "output_type": "display_data",
          "data": {
            "text/plain": [
              "<Figure size 864x432 with 2 Axes>"
            ],
            "image/png": "[encoded data removed]"
          },
          "metadata": {
            "needs_background": "light"
          }
        }
      ]
    },
    {
      "cell_type": "markdown",
      "source": [
        "## 5. Improving the model (from a model perspective)\n",
        "* Add more layers - give the model more chances to learn the patterns int he data\n",
        "* Add more hidden units\n",
        "* Fit for longer\n",
        "* Changing the activation function\n",
        "* Change the learning rate\n",
        "* Change the loss function\n",
        " These options are all form model perspective because they deal directly with our model, rather than data.\n",
        "\n",
        " And because these options are all values we can change they are called **hyperparameters**.\n"
      ],
      "metadata": {
        "id": "WHN0Mu0RlqGV"
      }
    },
    {
      "cell_type": "code",
      "source": [
        "model_0.state_dict()"
      ],
      "metadata": {
        "colab": {
          "base_uri": "https://localhost:8080/"
        },
        "id": "gIxm_xysz5Qz",
        "outputId": "f4cf48c0-69a3-497f-e4af-d556645e4625"
      },
      "execution_count": 71,
      "outputs": [
        {
          "output_type": "execute_result",
          "data": {
            "text/plain": [
              "OrderedDict([('layer_1.weight', tensor([[ 0.5417,  0.5875],\n",
              "                      [-0.1763,  0.6438],\n",
              "                      [-0.1580,  0.1410],\n",
              "                      [-0.3381,  0.4186],\n",
              "                      [ 0.6194, -0.5209]])),\n",
              "             ('layer_1.bias',\n",
              "              tensor([0.6110, 0.1607, 0.5295, 0.0792, 0.3511])),\n",
              "             ('layer_2.weight',\n",
              "              tensor([[-0.0395,  0.3512,  0.1112, -0.1981,  0.1316]])),\n",
              "             ('layer_2.bias', tensor([-0.1249]))])"
            ]
          },
          "metadata": {},
          "execution_count": 71
        }
      ]
    },
    {
      "cell_type": "code",
      "source": [
        "class CircleModelV1(nn.Module):\n",
        "  def __init__(self):\n",
        "    super().__init__()\n",
        "    self.layer_1= nn.Linear(in_features= 2, out_features=10)\n",
        "    self.layer_2= nn.Linear(in_features= 10, out_features=10)\n",
        "    self.layer_3= nn.Linear(in_features= 10, out_features= 1)\n",
        "\n",
        "  def forward(self, x: torch.tensor)->torch.tensor:\n",
        "    return self.layer_3(self.layer_2(self.layer_1(x))) # these way of writing operations in one command will accelerate the speed\n",
        "\n",
        "model_1= CircleModelV1().to(device)\n",
        "model_1 "
      ],
      "metadata": {
        "colab": {
          "base_uri": "https://localhost:8080/"
        },
        "id": "leVV3fx_z797",
        "outputId": "17df5648-0db6-4849-ced2-c8710ec26397"
      },
      "execution_count": 72,
      "outputs": [
        {
          "output_type": "execute_result",
          "data": {
            "text/plain": [
              "CircleModelV1(\n",
              "  (layer_1): Linear(in_features=2, out_features=10, bias=True)\n",
              "  (layer_2): Linear(in_features=10, out_features=10, bias=True)\n",
              "  (layer_3): Linear(in_features=10, out_features=1, bias=True)\n",
              ")"
            ]
          },
          "metadata": {},
          "execution_count": 72
        }
      ]
    },
    {
      "cell_type": "code",
      "source": [
        "# Creating the model optimizer and loss function\n",
        "loss_fn= nn.BCEWithLogitsLoss()\n",
        "optimizer= torch.optim.SGD(params= model_1.parameters(), lr=0.001)\n"
      ],
      "metadata": {
        "id": "UAC1cCih4V9-"
      },
      "execution_count": 73,
      "outputs": []
    },
    {
      "cell_type": "code",
      "source": [
        "# Training and testing loop\n",
        "torch.manual_seed(42)\n",
        "torch.cuda.manual_seed(42)\n",
        "\n",
        "epochs= 1000\n",
        "\n",
        "# Put data to target device\n",
        "X_train, y_train = X_train.to(device), y_train.to(device)\n",
        "X_test, y_test = X_test.to(device), y_test.to(device)\n",
        "\n",
        "for epoch in range(epochs):\n",
        "\n",
        "  model_1.train()\n",
        "  # forward pass\n",
        "  y_logits= model_1(X_train).squeeze()\n",
        "  y_preds= torch.round(torch.sigmoid(y_logits)) # turn the logits-> pred probs -> pred labels\n",
        "\n",
        "  # calculate the loss\n",
        "  loss= loss_fn(y_logits, y_train)\n",
        "  acc= accuracy_fn(y_true= y_train, y_pred= y_preds)\n",
        "\n",
        "  # optimizer zero grad\n",
        "  optimizer.zero_grad()\n",
        "\n",
        "  # loss backward\n",
        "  loss.backward()\n",
        "\n",
        "  # optimizer step\n",
        "  optimizer.step()\n",
        "\n",
        "  ## Testing\n",
        "  model_1.eval()\n",
        "  with torch.inference_mode():\n",
        "    # forward pass\n",
        "    test_logits= model_1(X_test).squeeze()\n",
        "    test_preds= torch.round(torch.sigmoid(test_logits))\n",
        "    # calculate the loss\n",
        "    test_loss= loss_fn(test_logits, y_test)\n",
        "    test_acc= accuracy_fn(y_true= y_test, y_pred= test_preds)\n",
        "  # print out whats happenning\n",
        "  if epoch % 100 ==0:\n",
        "   print(f\"epoch: {epoch} | Train loss: {loss} | Train Acc:{acc} | Test loss: {test_loss} | Test Acc: {test_acc}\")\n"
      ],
      "metadata": {
        "colab": {
          "base_uri": "https://localhost:8080/"
        },
        "id": "_GAdWxDx7Dyf",
        "outputId": "f8ae0b07-bdc8-4e83-a449-ad2c6a3ebb41"
      },
      "execution_count": 74,
      "outputs": [
        {
          "output_type": "stream",
          "name": "stdout",
          "text": [
            "epoch: 0 | Train loss: 0.6939550638198853 | Train Acc:50.875 | Test loss: 0.6926103234291077 | Test Acc: 51.0\n",
            "epoch: 100 | Train loss: 0.6939223408699036 | Train Acc:50.5 | Test loss: 0.6926147937774658 | Test Acc: 51.0\n",
            "epoch: 200 | Train loss: 0.6938914060592651 | Train Acc:50.625 | Test loss: 0.6926204562187195 | Test Acc: 50.5\n",
            "epoch: 300 | Train loss: 0.6938619613647461 | Train Acc:50.625 | Test loss: 0.6926270723342896 | Test Acc: 50.5\n",
            "epoch: 400 | Train loss: 0.6938338875770569 | Train Acc:50.625 | Test loss: 0.6926344037055969 | Test Acc: 51.0\n",
            "epoch: 500 | Train loss: 0.6938071846961975 | Train Acc:50.74999999999999 | Test loss: 0.6926426291465759 | Test Acc: 50.5\n",
            "epoch: 600 | Train loss: 0.6937817335128784 | Train Acc:50.625 | Test loss: 0.6926515698432922 | Test Acc: 51.0\n",
            "epoch: 700 | Train loss: 0.6937573552131653 | Train Acc:50.24999999999999 | Test loss: 0.6926609873771667 | Test Acc: 51.0\n",
            "epoch: 800 | Train loss: 0.6937341094017029 | Train Acc:50.0 | Test loss: 0.6926710605621338 | Test Acc: 50.5\n",
            "epoch: 900 | Train loss: 0.6937118172645569 | Train Acc:49.875 | Test loss: 0.6926814913749695 | Test Acc: 50.5\n"
          ]
        }
      ]
    },
    {
      "cell_type": "code",
      "source": [
        "# Create some data \n",
        "weight= 0.7\n",
        "bias= 0.3\n",
        "start= 0\n",
        "end=1\n",
        "step= 0.01\n",
        "\n",
        "#Create data\n",
        "X_regression= torch.arange(start, end, step).unsqueeze(dim=1)\n",
        "y_regression= weight * X_regression+ bias\n"
      ],
      "metadata": {
        "id": "APk6DpsYBGME"
      },
      "execution_count": 76,
      "outputs": []
    },
    {
      "cell_type": "code",
      "source": [
        "train_split= int(0.8*len(X_regression))\n",
        "X_train_reg , y_train_reg = X_regression[:train_split], y_regression[:train_split]\n",
        "X_test_reg , y_test_reg = X_regression[train_split:], y_regression[train_split:]\n",
        "plot_predictions(train_data= X_train_reg,\n",
        "                 train_labels= y_train_reg,\n",
        "                 test_data= X_test_reg,\n",
        "                 test_labels= y_test_reg,\n",
        "                 predictions= None)"
      ],
      "metadata": {
        "colab": {
          "base_uri": "https://localhost:8080/",
          "height": 428
        },
        "id": "KF8L6kgGJPO7",
        "outputId": "0e5f8fe2-c057-41cf-ce84-889f0db662f7"
      },
      "execution_count": 77,
      "outputs": [
        {
          "output_type": "display_data",
          "data": {
            "text/plain": [
              "<Figure size 720x504 with 1 Axes>"
            ],
            "image/png": "[encoded data removed]"
          },
          "metadata": {
            "needs_background": "light"
          }
        }
      ]
    },
    {
      "cell_type": "markdown",
      "source": [
        "### 5.2 Adjusting `model_1` to fit the streight line"
      ],
      "metadata": {
        "id": "PDb1MV5dKVW3"
      }
    },
    {
      "cell_type": "markdown",
      "source": [
        "# Multiclass Classification\n"
      ],
      "metadata": {
        "id": "WH8j3ocDMnbt"
      }
    },
    {
      "cell_type": "markdown",
      "source": [
        "## Creating a tory multiclass dataset\n"
      ],
      "metadata": {
        "id": "5aXcRXr6iGae"
      }
    },
    {
      "cell_type": "code",
      "source": [
        "# import our dependencies\n",
        "import torch\n",
        "from torch import nn\n",
        "import matplotlib.pyplot as plt\n",
        "from sklearn.datasets import make_blobs\n",
        "from sklearn.model_selection import train_test_split\n",
        "\n",
        "# Set hyperparameters for data creation\n",
        "NUM_CLASSES = 4\n",
        "NUM_FEATURES = 2\n",
        "RANDOM_SEED = 42\n",
        "\n",
        "# 1. Creat multiclass data\n",
        "X_blob, y_blob= make_blobs(n_samples= 1000,\n",
        "                           n_features= NUM_FEATURES,\n",
        "                           centers= NUM_CLASSES,\n",
        "                           cluster_std= 1.5,\n",
        "                           random_state= RANDOM_SEED)\n",
        "# 2. Turn data into tensors\n",
        "X_blob= torch.from_numpy(X_blob).type(torch.float)\n",
        "y_blob= torch.from_numpy(y_blob).type(torch.LongTensor)\n",
        "\n",
        "# 3. split into test and train sets\n",
        "X_blob_train, X_blob_test, y_blob_train, y_blob_test= train_test_split(X_blob,\n",
        "                                                                       y_blob,\n",
        "                                                                       test_size= 0.2,\n",
        "                                                                       random_state=RANDOM_SEED)\n",
        "plt.figure(figsize=(10,7))\n",
        "plt.scatter(X_blob[:,0], X_blob[:,1], c=y_blob, cmap=plt.cm.RdYlBu)\n"
      ],
      "metadata": {
        "colab": {
          "base_uri": "https://localhost:8080/",
          "height": 445
        },
        "id": "Wa6HsfDTiL_l",
        "outputId": "d760e263-8126-4980-c375-647cc2adfb7c"
      },
      "execution_count": 78,
      "outputs": [
        {
          "output_type": "execute_result",
          "data": {
            "text/plain": [
              "<matplotlib.collections.PathCollection at 0x7ff839be9b50>"
            ]
          },
          "metadata": {},
          "execution_count": 78
        },
        {
          "output_type": "display_data",
          "data": {
            "text/plain": [
              "<Figure size 720x504 with 1 Axes>"
            ],
            "image/png": "[encoded data removed]"
          },
          "metadata": {
            "needs_background": "light"
          }
        }
      ]
    },
    {
      "cell_type": "code",
      "source": [
        "# Creat device agnostic code\n",
        "device= \"cuda\" if torch.cuda.is_available() else \"cpu\"\n",
        "device"
      ],
      "metadata": {
        "colab": {
          "base_uri": "https://localhost:8080/",
          "height": 35
        },
        "id": "qTumX11ZlNvQ",
        "outputId": "37d45556-f7fd-498b-8ac8-e88064f92dd3"
      },
      "execution_count": 79,
      "outputs": [
        {
          "output_type": "execute_result",
          "data": {
            "text/plain": [
              "'cuda'"
            ],
            "application/vnd.google.colaboratory.intrinsic+json": {
              "type": "string"
            }
          },
          "metadata": {},
          "execution_count": 79
        }
      ]
    },
    {
      "cell_type": "code",
      "source": [
        "# Build a multi-class classification model\n",
        "class BlobModel(nn.Module):\n",
        "  def __init__(self, input_features, output_features, hidden_units= 8):\n",
        "    super().__init__()\n",
        "    self.linear_layer_stack= nn.Sequential(\n",
        "        nn.Linear(in_features= input_features, out_features= hidden_units),\n",
        "        nn.Linear(in_features= hidden_units, out_features= hidden_units),\n",
        "        nn.Linear(in_features= hidden_units, out_features= output_features)\n",
        "        )\n",
        "  def forward(self, x):\n",
        "    return self.linear_layer_stack(x)"
      ],
      "metadata": {
        "id": "Er-B7vB5mkVD"
      },
      "execution_count": 80,
      "outputs": []
    },
    {
      "cell_type": "code",
      "source": [
        "torch.unique(y_blob_train)"
      ],
      "metadata": {
        "colab": {
          "base_uri": "https://localhost:8080/"
        },
        "id": "CY28O800oo7P",
        "outputId": "dd3d0c22-454e-45f0-f916-c64bce621a07"
      },
      "execution_count": 81,
      "outputs": [
        {
          "output_type": "execute_result",
          "data": {
            "text/plain": [
              "tensor([0, 1, 2, 3])"
            ]
          },
          "metadata": {},
          "execution_count": 81
        }
      ]
    },
    {
      "cell_type": "code",
      "source": [
        "model_4= BlobModel(input_features= NUM_FEATURES,\n",
        "                   output_features= NUM_CLASSES,\n",
        "                   hidden_units= 8)\n",
        "model_4"
      ],
      "metadata": {
        "colab": {
          "base_uri": "https://localhost:8080/"
        },
        "id": "6q64WLlQo6r2",
        "outputId": "ad7f9643-0757-4fbd-9897-710b82372ee5"
      },
      "execution_count": 82,
      "outputs": [
        {
          "output_type": "execute_result",
          "data": {
            "text/plain": [
              "BlobModel(\n",
              "  (linear_layer_stack): Sequential(\n",
              "    (0): Linear(in_features=2, out_features=8, bias=True)\n",
              "    (1): Linear(in_features=8, out_features=8, bias=True)\n",
              "    (2): Linear(in_features=8, out_features=4, bias=True)\n",
              "  )\n",
              ")"
            ]
          },
          "metadata": {},
          "execution_count": 82
        }
      ]
    },
    {
      "cell_type": "code",
      "source": [
        "# Create a loss function ans an optimizer\n",
        "loss_fn= nn.CrossEntropyLoss()\n",
        "optimizer= torch.optim.SGD(model_4.parameters(),\n",
        "                           lr= 0.1)\n"
      ],
      "metadata": {
        "id": "7RukpjWjphLm"
      },
      "execution_count": 83,
      "outputs": []
    },
    {
      "cell_type": "code",
      "source": [
        "from numpy.random.mtrand import logseries\n",
        "# Building a training and testing loop\n",
        "torch.manual_seed(42)\n",
        "torch.cuda.manual_seed(42)\n",
        "\n",
        "epochs= 1000\n",
        "#X_blob_train, y_blob_train= X_blob_train.to(device), y_blob_train.to(device)\n",
        "#X_blob_test, y_blob_test= X_blob_test.to(device), y_blob_test.to(device)\n",
        "\n",
        "for epoch in range(epochs):\n",
        "  model_4.train()\n",
        "  y_logits= model_4(X_blob_train)\n",
        "  y_pred_probs = torch.softmax(y_logits, dim=1)\n",
        "  y_preds = torch.argmax(y_pred_probs, dim=1)\n",
        "  loss= loss_fn(y_logits, y_blob_train)\n",
        "  acc= accuracy_fn(y_true= y_blob_train, y_pred= y_preds)\n",
        "\n",
        "  optimizer.zero_grad()\n",
        "  loss.backward()\n",
        "  optimizer.step()\n",
        "\n",
        "  # testing\n",
        "  model_4.eval()\n",
        "  with torch.inference_mode():\n",
        "    test_logits= model_4(X_blob_test)\n",
        "    test_preds= torch.softmax(test_logits, dim=1).argmax(dim=1)\n",
        "    test_loss= loss_fn(test_logits, y_blob_test)\n",
        "    test_acc= accuracy_fn(y_true= y_blob_test, y_pred= test_preds)\n",
        "\n",
        "  if epoch % 100 ==0:\n",
        "   print(f\"epoch: {epoch} | Train loss: {loss} | Train Acc:{acc} | Test loss: {test_loss} | Test Acc: {test_acc}\")\n"
      ],
      "metadata": {
        "colab": {
          "base_uri": "https://localhost:8080/"
        },
        "id": "UTS2xTpnrfYj",
        "outputId": "b95c5ad0-c822-4b12-f51d-c8bd013aba83"
      },
      "execution_count": 86,
      "outputs": [
        {
          "output_type": "stream",
          "name": "stdout",
          "text": [
            "epoch: 0 | Train loss: 0.03174715116620064 | Train Acc:99.125 | Test loss: 0.022810176014900208 | Test Acc: 99.5\n",
            "epoch: 100 | Train loss: 0.02704443968832493 | Train Acc:99.125 | Test loss: 0.01700836420059204 | Test Acc: 99.5\n",
            "epoch: 200 | Train loss: 0.025635259225964546 | Train Acc:99.25 | Test loss: 0.014975804835557938 | Test Acc: 99.5\n",
            "epoch: 300 | Train loss: 0.024917392060160637 | Train Acc:99.25 | Test loss: 0.013884106650948524 | Test Acc: 99.5\n",
            "epoch: 400 | Train loss: 0.024439584463834763 | Train Acc:99.25 | Test loss: 0.013171333819627762 | Test Acc: 99.5\n",
            "epoch: 500 | Train loss: 0.024071188643574715 | Train Acc:99.25 | Test loss: 0.012649140320718288 | Test Acc: 99.5\n",
            "epoch: 600 | Train loss: 0.02376270294189453 | Train Acc:99.25 | Test loss: 0.012236448936164379 | Test Acc: 99.5\n",
            "epoch: 700 | Train loss: 0.023491598665714264 | Train Acc:99.25 | Test loss: 0.011892820708453655 | Test Acc: 99.5\n",
            "epoch: 800 | Train loss: 0.023246178403496742 | Train Acc:99.25 | Test loss: 0.01159596722573042 | Test Acc: 99.5\n",
            "epoch: 900 | Train loss: 0.023019690066576004 | Train Acc:99.375 | Test loss: 0.011332625523209572 | Test Acc: 99.5\n"
          ]
        }
      ]
    },
    {
      "cell_type": "code",
      "source": [],
      "metadata": {
        "id": "WOiqJ_CJrwOp"
      },
      "execution_count": null,
      "outputs": []
    },
    {
      "cell_type": "code",
      "source": [],
      "metadata": {
        "id": "s1svJaK4tkRy"
      },
      "execution_count": null,
      "outputs": []
    }
  ]
}